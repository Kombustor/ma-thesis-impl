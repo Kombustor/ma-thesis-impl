{
  "nbformat": 4,
  "nbformat_minor": 0,
  "metadata": {
    "colab": {
      "provenance": []
    },
    "kernelspec": {
      "name": "ir",
      "display_name": "R"
    },
    "language_info": {
      "name": "R"
    }
  },
  "cells": [
    {
      "cell_type": "markdown",
      "source": [
        "# V3 Dataset Creation & Descriptive Evaluation"
      ],
      "metadata": {
        "id": "3fhf2ZMvDJtz"
      }
    },
    {
      "cell_type": "markdown",
      "source": [
        "## Install dependencies"
      ],
      "metadata": {
        "id": "AvsL4LLHTUow"
      }
    },
    {
      "cell_type": "code",
      "source": [
        "for (p in c(\"irr\")) {\n",
        "  if (!requireNamespace(p)) {\n",
        "    install.packages(p)\n",
        "  }\n",
        "}\n",
        "\n",
        "library(dplyr)\n",
        "library(ggplot2)\n",
        "library(tidyr)\n",
        "library(irr)"
      ],
      "metadata": {
        "id": "dnvGByUUSFVn",
        "colab": {
          "base_uri": "https://localhost:8080/"
        },
        "outputId": "037c49f3-6b74-419f-df5c-ed3d79058877"
      },
      "execution_count": null,
      "outputs": [
        {
          "output_type": "stream",
          "name": "stderr",
          "text": [
            "Loading required namespace: irr\n",
            "\n",
            "Installing package into ‘/usr/local/lib/R/site-library’\n",
            "(as ‘lib’ is unspecified)\n",
            "\n",
            "also installing the dependency ‘lpSolve’\n",
            "\n",
            "\n",
            "\n",
            "Attaching package: ‘dplyr’\n",
            "\n",
            "\n",
            "The following objects are masked from ‘package:stats’:\n",
            "\n",
            "    filter, lag\n",
            "\n",
            "\n",
            "The following objects are masked from ‘package:base’:\n",
            "\n",
            "    intersect, setdiff, setequal, union\n",
            "\n",
            "\n",
            "Loading required package: lpSolve\n",
            "\n"
          ]
        }
      ]
    },
    {
      "cell_type": "code",
      "execution_count": null,
      "metadata": {
        "id": "3HvVrvF6zRmP"
      },
      "outputs": [],
      "source": [
        "Participant <- read.csv(unzip(\"data.zip\", \"Participant.csv\"))\n",
        "Feedback <- read.csv(unzip(\"data.zip\", \"Feedback.csv\"))\n",
        "Article <- read.csv(unzip(\"data.zip\", \"Article.csv\"))\n",
        "Content <- read.csv(unzip(\"data.zip\", \"Content.csv\"))\n",
        "\n",
        "ArticleInfo <- read.csv(\"articles.csv\")"
      ]
    },
    {
      "cell_type": "markdown",
      "source": [
        "## Descriptive"
      ],
      "metadata": {
        "id": "KqzsGH4pq_qh"
      }
    },
    {
      "cell_type": "markdown",
      "source": [
        "### Participant"
      ],
      "metadata": {
        "id": "1YmE-OfVrBRg"
      }
    },
    {
      "cell_type": "code",
      "source": [
        "summary(Participant)"
      ],
      "metadata": {
        "colab": {
          "base_uri": "https://localhost:8080/",
          "height": 260
        },
        "id": "0IXEXl8G7A9b",
        "outputId": "60f3330b-6ce1-4df3-abe0-ec0b48641b0e"
      },
      "execution_count": null,
      "outputs": [
        {
          "output_type": "display_data",
          "data": {
            "text/plain": [
              "      id            dataProcessingConsent browserSignature  \n",
              " Length:158         Min.   :0             Length:158        \n",
              " Class :character   1st Qu.:0             Class :character  \n",
              " Mode  :character   Median :0             Mode  :character  \n",
              "                    Mean   :0                               \n",
              "                    3rd Qu.:0                               \n",
              "                    Max.   :0                               \n",
              "   createdAt        \n",
              " Min.   :1.678e+09  \n",
              " 1st Qu.:1.678e+09  \n",
              " Median :1.678e+09  \n",
              " Mean   :1.678e+09  \n",
              " 3rd Qu.:1.678e+09  \n",
              " Max.   :1.679e+09  "
            ]
          },
          "metadata": {}
        }
      ]
    },
    {
      "cell_type": "code",
      "source": [
        "nrow(Participant)"
      ],
      "metadata": {
        "colab": {
          "base_uri": "https://localhost:8080/",
          "height": 34
        },
        "id": "R-Lz6Gyp415g",
        "outputId": "dc2cd3fa-91ea-416b-e59c-a256275d7530"
      },
      "execution_count": null,
      "outputs": [
        {
          "output_type": "display_data",
          "data": {
            "text/html": [
              "158"
            ],
            "text/markdown": "158",
            "text/latex": "158",
            "text/plain": [
              "[1] 158"
            ]
          },
          "metadata": {}
        }
      ]
    },
    {
      "cell_type": "code",
      "source": [
        "ParticipantWithFeedback <- merge(Participant, Feedback, by.x = \"id\", by.y = \"participantId\") \n",
        "ParticipantWithFeedbackCount <- ParticipantWithFeedback %>% group_by(id) %>% summarise(\n",
        "  n = n()\n",
        ")\n",
        "\n",
        "nrow(ParticipantWithFeedbackCount)"
      ],
      "metadata": {
        "colab": {
          "base_uri": "https://localhost:8080/",
          "height": 34
        },
        "id": "ADwI8FhE43Tr",
        "outputId": "f1eceaba-fea1-4b17-fa1a-79afce629ac3"
      },
      "execution_count": null,
      "outputs": [
        {
          "output_type": "display_data",
          "data": {
            "text/html": [
              "33"
            ],
            "text/markdown": "33",
            "text/latex": "33",
            "text/plain": [
              "[1] 33"
            ]
          },
          "metadata": {}
        }
      ]
    },
    {
      "cell_type": "code",
      "source": [
        "mean(ParticipantWithFeedbackCount$n)\n",
        "median(ParticipantWithFeedbackCount$n)"
      ],
      "metadata": {
        "colab": {
          "base_uri": "https://localhost:8080/",
          "height": 52
        },
        "id": "uAFUaYQU7Q82",
        "outputId": "11a0d262-f6e2-4293-8b35-2980f081d578"
      },
      "execution_count": null,
      "outputs": [
        {
          "output_type": "display_data",
          "data": {
            "text/html": [
              "60.5151515151515"
            ],
            "text/markdown": "60.5151515151515",
            "text/latex": "60.5151515151515",
            "text/plain": [
              "[1] 60.51515"
            ]
          },
          "metadata": {}
        },
        {
          "output_type": "display_data",
          "data": {
            "text/html": [
              "16"
            ],
            "text/markdown": "16",
            "text/latex": "16",
            "text/plain": [
              "[1] 16"
            ]
          },
          "metadata": {}
        }
      ]
    },
    {
      "cell_type": "markdown",
      "source": [
        "### Article & Content"
      ],
      "metadata": {
        "id": "0ykZ6eklrjpX"
      }
    },
    {
      "cell_type": "code",
      "source": [
        "# Preprocessing\n",
        "ArticleWithContent <- merge(Article, Content, by.x = \"id\", by.y = \"articleId\") %>% filter(htmlType == \"SPAN\")\n",
        "\n",
        "Article <- merge(Article, ArticleInfo, by=\"source\")\n",
        "Article$date <- as.POSIXct(Article$date, origin=\"1970-01-01\")"
      ],
      "metadata": {
        "id": "zJswmgfy4o-b"
      },
      "execution_count": null,
      "outputs": []
    },
    {
      "cell_type": "code",
      "source": [
        "summary(Article)"
      ],
      "metadata": {
        "colab": {
          "base_uri": "https://localhost:8080/",
          "height": 625
        },
        "id": "dRgERqyh7IQg",
        "outputId": "b8c2bd29-5ea7-4a90-cdd4-0f8dbd3ef71f"
      },
      "execution_count": null,
      "outputs": [
        {
          "output_type": "display_data",
          "data": {
            "text/plain": [
              "    source               id               title             sitename        \n",
              " Length:12          Length:12          Length:12          Length:12         \n",
              " Class :character   Class :character   Class :character   Class :character  \n",
              " Mode  :character   Mode  :character   Mode  :character   Mode  :character  \n",
              "                                                                            \n",
              "                                                                            \n",
              "                                                                            \n",
              "    author               date                     inferenceAvailable\n",
              " Length:12          Min.   :2022-12-27 00:00:00   Min.   :1         \n",
              " Class :character   1st Qu.:2023-01-30 00:00:00   1st Qu.:1         \n",
              " Mode  :character   Median :2023-02-24 12:00:00   Median :1         \n",
              "                    Mean   :2023-02-11 06:00:00   Mean   :1         \n",
              "                    3rd Qu.:2023-02-28 00:00:00   3rd Qu.:1         \n",
              "                    Max.   :2023-03-01 00:00:00   Max.   :1         \n",
              "    topic           coverImageId       biasPercentage    credibleSource  \n",
              " Length:12          Length:12          Min.   :0.00000   Min.   :0.0000  \n",
              " Class :character   Class :character   1st Qu.:0.05795   1st Qu.:1.0000  \n",
              " Mode  :character   Mode  :character   Median :0.18199   Median :1.0000  \n",
              "                                       Mean   :0.23898   Mean   :0.9167  \n",
              "                                       3rd Qu.:0.42311   3rd Qu.:1.0000  \n",
              "                                       Max.   :0.67647   Max.   :1.0000  \n",
              "  omitsOpinion      createdAt             bias              slant          \n",
              " Min.   :0.0000   Min.   :1.678e+09   Length:12          Length:12         \n",
              " 1st Qu.:0.0000   1st Qu.:1.678e+09   Class :character   Class :character  \n",
              " Median :0.0000   Median :1.678e+09   Mode  :character   Mode  :character  \n",
              " Mean   :0.4167   Mean   :1.678e+09                                        \n",
              " 3rd Qu.:1.0000   3rd Qu.:1.678e+09                                        \n",
              " Max.   :1.0000   Max.   :1.678e+09                                        \n",
              "    X            credible       omits.opinion   preview.image     \n",
              " Mode:logical   Mode :logical   Mode :logical   Length:12         \n",
              " NA's:12        FALSE:1         FALSE:8         Class :character  \n",
              "                TRUE :11        TRUE :4         Mode  :character  \n",
              "                                                                  \n",
              "                                                                  \n",
              "                                                                  "
            ]
          },
          "metadata": {}
        }
      ]
    },
    {
      "cell_type": "code",
      "source": [
        "unique(Article$topic)"
      ],
      "metadata": {
        "colab": {
          "base_uri": "https://localhost:8080/",
          "height": 52
        },
        "id": "b3mPwQyqRDIo",
        "outputId": "157f1a9c-5631-4830-d746-2cdce9dbdf7b"
      },
      "execution_count": null,
      "outputs": [
        {
          "output_type": "display_data",
          "data": {
            "text/html": [
              "<style>\n",
              ".list-inline {list-style: none; margin:0; padding: 0}\n",
              ".list-inline>li {display: inline-block}\n",
              ".list-inline>li:not(:last-child)::after {content: \"\\00b7\"; padding: 0 .5ex}\n",
              "</style>\n",
              "<ol class=list-inline><li>'abortion'</li><li>'immigration'</li><li>'gender'</li><li>'elections-2020'</li><li>'international-politics-and-world-news'</li><li>'gun-control'</li><li>'blm'</li><li>'environment'</li><li>'white-nationalism'</li><li>'middle-class'</li><li>'coronavirus'</li><li>'islam'</li></ol>\n"
            ],
            "text/markdown": "1. 'abortion'\n2. 'immigration'\n3. 'gender'\n4. 'elections-2020'\n5. 'international-politics-and-world-news'\n6. 'gun-control'\n7. 'blm'\n8. 'environment'\n9. 'white-nationalism'\n10. 'middle-class'\n11. 'coronavirus'\n12. 'islam'\n\n\n",
            "text/latex": "\\begin{enumerate*}\n\\item 'abortion'\n\\item 'immigration'\n\\item 'gender'\n\\item 'elections-2020'\n\\item 'international-politics-and-world-news'\n\\item 'gun-control'\n\\item 'blm'\n\\item 'environment'\n\\item 'white-nationalism'\n\\item 'middle-class'\n\\item 'coronavirus'\n\\item 'islam'\n\\end{enumerate*}\n",
            "text/plain": [
              " [1] \"abortion\"                             \n",
              " [2] \"immigration\"                          \n",
              " [3] \"gender\"                               \n",
              " [4] \"elections-2020\"                       \n",
              " [5] \"international-politics-and-world-news\"\n",
              " [6] \"gun-control\"                          \n",
              " [7] \"blm\"                                  \n",
              " [8] \"environment\"                          \n",
              " [9] \"white-nationalism\"                    \n",
              "[10] \"middle-class\"                         \n",
              "[11] \"coronavirus\"                          \n",
              "[12] \"islam\"                                "
            ]
          },
          "metadata": {}
        }
      ]
    },
    {
      "cell_type": "code",
      "source": [
        "unique(Article$sitename)"
      ],
      "metadata": {
        "colab": {
          "base_uri": "https://localhost:8080/",
          "height": 34
        },
        "id": "EiM5ZhbXSjba",
        "outputId": "c6eb47c7-44da-4e4b-8222-97b0bd3aa717"
      },
      "execution_count": null,
      "outputs": [
        {
          "output_type": "display_data",
          "data": {
            "text/html": [
              "<style>\n",
              ".list-inline {list-style: none; margin:0; padding: 0}\n",
              ".list-inline>li {display: inline-block}\n",
              ".list-inline>li:not(:last-child)::after {content: \"\\00b7\"; padding: 0 .5ex}\n",
              "</style>\n",
              "<ol class=list-inline><li>'The Federalist'</li><li>'Alternet'</li><li>'Breitbart'</li><li>'Fox News'</li><li>'Reuters'</li><li>'TheBlaze'</li><li>'The Daily Beast'</li><li>'The Guardian'</li></ol>\n"
            ],
            "text/markdown": "1. 'The Federalist'\n2. 'Alternet'\n3. 'Breitbart'\n4. 'Fox News'\n5. 'Reuters'\n6. 'TheBlaze'\n7. 'The Daily Beast'\n8. 'The Guardian'\n\n\n",
            "text/latex": "\\begin{enumerate*}\n\\item 'The Federalist'\n\\item 'Alternet'\n\\item 'Breitbart'\n\\item 'Fox News'\n\\item 'Reuters'\n\\item 'TheBlaze'\n\\item 'The Daily Beast'\n\\item 'The Guardian'\n\\end{enumerate*}\n",
            "text/plain": [
              "[1] \"The Federalist\"  \"Alternet\"        \"Breitbart\"       \"Fox News\"       \n",
              "[5] \"Reuters\"         \"TheBlaze\"        \"The Daily Beast\" \"The Guardian\"   "
            ]
          },
          "metadata": {}
        }
      ]
    },
    {
      "cell_type": "code",
      "source": [
        "nrow(Article[Article$credibleSource==1,])\n",
        "nrow(Article[Article$credibleSource==0,])"
      ],
      "metadata": {
        "colab": {
          "base_uri": "https://localhost:8080/",
          "height": 52
        },
        "id": "wzR7Spo1TvwX",
        "outputId": "00d0928e-a29d-48e1-faed-f05dee4d0a18"
      },
      "execution_count": null,
      "outputs": [
        {
          "output_type": "display_data",
          "data": {
            "text/html": [
              "11"
            ],
            "text/markdown": "11",
            "text/latex": "11",
            "text/plain": [
              "[1] 11"
            ]
          },
          "metadata": {}
        },
        {
          "output_type": "display_data",
          "data": {
            "text/html": [
              "1"
            ],
            "text/markdown": "1",
            "text/latex": "1",
            "text/plain": [
              "[1] 1"
            ]
          },
          "metadata": {}
        }
      ]
    },
    {
      "cell_type": "code",
      "source": [
        "nrow(Article[Article$omitsOpinion==1,])\n",
        "nrow(Article[Article$omitsOpinion==0,])"
      ],
      "metadata": {
        "colab": {
          "base_uri": "https://localhost:8080/",
          "height": 52
        },
        "id": "zqyroHD4UA9N",
        "outputId": "373a74c9-d8e6-44f0-fcc8-f4f8a9bc73f8"
      },
      "execution_count": null,
      "outputs": [
        {
          "output_type": "display_data",
          "data": {
            "text/html": [
              "5"
            ],
            "text/markdown": "5",
            "text/latex": "5",
            "text/plain": [
              "[1] 5"
            ]
          },
          "metadata": {}
        },
        {
          "output_type": "display_data",
          "data": {
            "text/html": [
              "7"
            ],
            "text/markdown": "7",
            "text/latex": "7",
            "text/plain": [
              "[1] 7"
            ]
          },
          "metadata": {}
        }
      ]
    },
    {
      "cell_type": "code",
      "source": [
        "df <- Article %>%\n",
        "  group_by(bias) %>%\n",
        "  summarise(\n",
        "    n = n()\n",
        "  )\n",
        "df"
      ],
      "metadata": {
        "colab": {
          "base_uri": "https://localhost:8080/",
          "height": 192
        },
        "id": "xGku2jjYU5Qr",
        "outputId": "dc89d8f9-e504-452d-bf08-281e964b886f"
      },
      "execution_count": null,
      "outputs": [
        {
          "output_type": "display_data",
          "data": {
            "text/html": [
              "<table class=\"dataframe\">\n",
              "<caption>A tibble: 3 × 2</caption>\n",
              "<thead>\n",
              "\t<tr><th scope=col>bias</th><th scope=col>n</th></tr>\n",
              "\t<tr><th scope=col>&lt;chr&gt;</th><th scope=col>&lt;int&gt;</th></tr>\n",
              "</thead>\n",
              "<tbody>\n",
              "\t<tr><td>high  </td><td>6</td></tr>\n",
              "\t<tr><td>low   </td><td>3</td></tr>\n",
              "\t<tr><td>medium</td><td>3</td></tr>\n",
              "</tbody>\n",
              "</table>\n"
            ],
            "text/markdown": "\nA tibble: 3 × 2\n\n| bias &lt;chr&gt; | n &lt;int&gt; |\n|---|---|\n| high   | 6 |\n| low    | 3 |\n| medium | 3 |\n\n",
            "text/latex": "A tibble: 3 × 2\n\\begin{tabular}{ll}\n bias & n\\\\\n <chr> & <int>\\\\\n\\hline\n\t high   & 6\\\\\n\t low    & 3\\\\\n\t medium & 3\\\\\n\\end{tabular}\n",
            "text/plain": [
              "  bias   n\n",
              "1 high   6\n",
              "2 low    3\n",
              "3 medium 3"
            ]
          },
          "metadata": {}
        }
      ]
    },
    {
      "cell_type": "code",
      "source": [
        "df <- Article %>%\n",
        "  group_by(slant) %>%\n",
        "  summarise(\n",
        "    n = n()\n",
        "  )\n",
        "df"
      ],
      "metadata": {
        "colab": {
          "base_uri": "https://localhost:8080/",
          "height": 224
        },
        "id": "iItZfCeaU5t0",
        "outputId": "e6093d62-bdf0-46d6-8f98-4a6f7ac0c619"
      },
      "execution_count": null,
      "outputs": [
        {
          "output_type": "display_data",
          "data": {
            "text/html": [
              "<table class=\"dataframe\">\n",
              "<caption>A tibble: 4 × 2</caption>\n",
              "<thead>\n",
              "\t<tr><th scope=col>slant</th><th scope=col>n</th></tr>\n",
              "\t<tr><th scope=col>&lt;chr&gt;</th><th scope=col>&lt;int&gt;</th></tr>\n",
              "</thead>\n",
              "<tbody>\n",
              "\t<tr><td>      </td><td>1</td></tr>\n",
              "\t<tr><td>center</td><td>2</td></tr>\n",
              "\t<tr><td>left  </td><td>5</td></tr>\n",
              "\t<tr><td>right </td><td>4</td></tr>\n",
              "</tbody>\n",
              "</table>\n"
            ],
            "text/markdown": "\nA tibble: 4 × 2\n\n| slant &lt;chr&gt; | n &lt;int&gt; |\n|---|---|\n| <!----> | 1 |\n| center | 2 |\n| left   | 5 |\n| right  | 4 |\n\n",
            "text/latex": "A tibble: 4 × 2\n\\begin{tabular}{ll}\n slant & n\\\\\n <chr> & <int>\\\\\n\\hline\n\t        & 1\\\\\n\t center & 2\\\\\n\t left   & 5\\\\\n\t right  & 4\\\\\n\\end{tabular}\n",
            "text/plain": [
              "  slant  n\n",
              "1        1\n",
              "2 center 2\n",
              "3 left   5\n",
              "4 right  4"
            ]
          },
          "metadata": {}
        }
      ]
    },
    {
      "cell_type": "code",
      "source": [
        "summary(select(Article, c(\"biasPercentage\", \"date\")))"
      ],
      "metadata": {
        "colab": {
          "base_uri": "https://localhost:8080/",
          "height": 139
        },
        "id": "3_keoCbATT8A",
        "outputId": "faeab30a-90b6-4728-d48a-fc54c367fc69"
      },
      "execution_count": null,
      "outputs": [
        {
          "output_type": "display_data",
          "data": {
            "text/plain": [
              " biasPercentage         date                    \n",
              " Min.   :0.00000   Min.   :2022-12-27 00:00:00  \n",
              " 1st Qu.:0.05795   1st Qu.:2023-01-30 00:00:00  \n",
              " Median :0.18199   Median :2023-02-24 12:00:00  \n",
              " Mean   :0.23898   Mean   :2023-02-11 06:00:00  \n",
              " 3rd Qu.:0.42311   3rd Qu.:2023-02-28 00:00:00  \n",
              " Max.   :0.67647   Max.   :2023-03-01 00:00:00  "
            ]
          },
          "metadata": {}
        }
      ]
    },
    {
      "cell_type": "code",
      "source": [
        "df <- ArticleWithContent %>%\n",
        "  group_by(id) %>%\n",
        "  summarise(\n",
        "    nSentences = n()\n",
        "  )\n",
        "\n",
        "summary(df)"
      ],
      "metadata": {
        "colab": {
          "base_uri": "https://localhost:8080/",
          "height": 139
        },
        "id": "6hXfz0u2XTg1",
        "outputId": "a9807c2f-0c21-4c88-cdc5-a00ae6f455de"
      },
      "execution_count": null,
      "outputs": [
        {
          "output_type": "display_data",
          "data": {
            "text/plain": [
              "      id              nSentences   \n",
              " Length:12          Min.   :16.00  \n",
              " Class :character   1st Qu.:18.75  \n",
              " Mode  :character   Median :31.00  \n",
              "                    Mean   :28.50  \n",
              "                    3rd Qu.:33.25  \n",
              "                    Max.   :44.00  "
            ]
          },
          "metadata": {}
        }
      ]
    },
    {
      "cell_type": "code",
      "source": [
        "summary(Content)"
      ],
      "metadata": {
        "colab": {
          "base_uri": "https://localhost:8080/",
          "height": 295
        },
        "id": "3U_c-nB57Lad",
        "outputId": "f00e68dd-ba54-4cbf-f978-e9dff67d52bc"
      },
      "execution_count": null,
      "outputs": [
        {
          "output_type": "display_data",
          "data": {
            "text/plain": [
              "      id            indexInArticle  paragraphIndex     htmlType        \n",
              " Length:357         Min.   : 0.00   Min.   : 0.000   Length:357        \n",
              " Class :character   1st Qu.: 7.00   1st Qu.: 4.000   Class :character  \n",
              " Mode  :character   Median :15.00   Median : 8.000   Mode  :character  \n",
              "                    Mean   :15.79   Mean   : 8.444                     \n",
              "                    3rd Qu.:24.00   3rd Qu.:12.000                     \n",
              "                    Max.   :44.00   Max.   :23.000                     \n",
              "                                    NA's   :15                         \n",
              "     biased       groundTruthBiased     text            articleId        \n",
              " Min.   :0.0000   Min.   :0         Length:357         Length:357        \n",
              " 1st Qu.:0.0000   1st Qu.:0         Class :character   Class :character  \n",
              " Median :0.0000   Median :0         Mode  :character   Mode  :character  \n",
              " Mean   :0.2633   Mean   :0                                              \n",
              " 3rd Qu.:1.0000   3rd Qu.:0                                              \n",
              " Max.   :1.0000   Max.   :0                                              \n",
              "                                                                         "
            ]
          },
          "metadata": {}
        }
      ]
    },
    {
      "cell_type": "markdown",
      "source": [
        "### Feedback"
      ],
      "metadata": {
        "id": "3y9F0jQ_4ZVg"
      }
    },
    {
      "cell_type": "code",
      "source": [
        "summary(Feedback)"
      ],
      "metadata": {
        "colab": {
          "base_uri": "https://localhost:8080/",
          "height": 260
        },
        "id": "NGoeJIyv7HBY",
        "outputId": "139c40fb-2420-4208-9efe-c073c3769469"
      },
      "execution_count": null,
      "outputs": [
        {
          "output_type": "display_data",
          "data": {
            "text/plain": [
              "      id            participantId       contentId             biased      \n",
              " Length:1997        Length:1997        Length:1997        Min.   :0.0000  \n",
              " Class :character   Class :character   Class :character   1st Qu.:0.0000  \n",
              " Mode  :character   Mode  :character   Mode  :character   Median :0.0000  \n",
              "                                                          Mean   :0.3545  \n",
              "                                                          3rd Qu.:1.0000  \n",
              "                                                          Max.   :1.0000  \n",
              "    reason            createdAt        \n",
              " Length:1997        Min.   :1.678e+09  \n",
              " Class :character   1st Qu.:1.678e+09  \n",
              " Mode  :character   Median :1.678e+09  \n",
              "                    Mean   :1.678e+09  \n",
              "                    3rd Qu.:1.679e+09  \n",
              "                    Max.   :1.679e+09  "
            ]
          },
          "metadata": {}
        }
      ]
    },
    {
      "cell_type": "markdown",
      "source": [
        "## Dataset "
      ],
      "metadata": {
        "id": "kOux4mBT4bUb"
      }
    },
    {
      "cell_type": "code",
      "source": [
        "# Remove headings\n",
        "ContentOnlySpan <- Content %>% filter(htmlType == \"SPAN\")\n",
        "\n",
        "nrow(Content)\n",
        "nrow(ContentOnlySpan)"
      ],
      "metadata": {
        "colab": {
          "base_uri": "https://localhost:8080/",
          "height": 52
        },
        "id": "yhU2zwTzRu2r",
        "outputId": "ef4d5362-87f8-49a8-b63e-ec3322674cd8"
      },
      "execution_count": null,
      "outputs": [
        {
          "output_type": "display_data",
          "data": {
            "text/html": [
              "357"
            ],
            "text/markdown": "357",
            "text/latex": "357",
            "text/plain": [
              "[1] 357"
            ]
          },
          "metadata": {}
        },
        {
          "output_type": "display_data",
          "data": {
            "text/html": [
              "342"
            ],
            "text/markdown": "342",
            "text/latex": "342",
            "text/plain": [
              "[1] 342"
            ]
          },
          "metadata": {}
        }
      ]
    },
    {
      "cell_type": "code",
      "source": [
        "# Set threshold for minimum feedback per sentence\n",
        "threshold <- 5\n",
        "\n",
        "calc.majority.vote <- function() {\n",
        "  # Aggregate feedback data by contentId and biased rating\n",
        "  FeedbackAgg <- Feedback %>% \n",
        "    group_by(contentId, biased) %>% \n",
        "    summarise(n = n()) %>% \n",
        "    ungroup()\n",
        "\n",
        "  # Subset feedback data based on threshold\n",
        "  FeedbackSubset <- FeedbackAgg %>% \n",
        "    group_by(contentId) %>% \n",
        "    filter(sum(n) >= threshold) %>% \n",
        "    ungroup()\n",
        "\n",
        "  # Calculate the majority vote for each sentence\n",
        "  MajorityVote <- FeedbackSubset %>% \n",
        "    group_by(contentId) %>% \n",
        "    summarise(\n",
        "      majorityVote = ifelse(\n",
        "        sum(n[biased == 1]) > sum(n[biased == 0]), 1, \n",
        "            ifelse(sum(n[biased == 1]) < sum(n[biased == 0]), 0, -1)\n",
        "      ),\n",
        "      avgVote = sum(n[biased == 1])/sum(n), # (0 * not_biased + 1 * biased) / (not_biased + biased)\n",
        "      votesBiased = sum(n[biased == 1]),\n",
        "      votesNotBiased = sum(n[biased == 0])\n",
        "    )\n",
        "\n",
        "  MajorityVoteAndContent <- merge(MajorityVote, Content, by.x = \"contentId\", by.y = \"id\")\n",
        "  ResultDataset <- merge(MajorityVoteAndContent, Article[, c(\"id\", \"source\", \"sitename\")], by.x = \"articleId\", by.y = \"id\")\n",
        "\n",
        "  ResultDataset <- ResultDataset %>% select(\n",
        "    -paragraphIndex, -htmlType, -groundTruthBiased, -indexInArticle\n",
        "  ) %>% rename(\n",
        "    classifierBiased = biased,\n",
        "    outlet = sitename,\n",
        "  )\n",
        "  \n",
        "  cat(\"Majority vote threshold: \", threshold, \"\\n\")\n",
        "  cat(\"# Total Feedback: \", nrow(Feedback), \"\\n\")\n",
        "  cat(\"# Total Sentences: \", nrow(Content), \"\\n\")\n",
        "  cat(\"# Sentences with majority votes: \", nrow(MajorityVote), \"\\n\")\n",
        "  cat(\"# Sentences with controverse majority votes: \", nrow(MajorityVote[MajorityVote$avgVote <= 0.6 & MajorityVote$avgVote >= 0.4,]), \"\\n\")\n",
        "  cat(\"# Sentences with decided majority votes: \", nrow(MajorityVote[MajorityVote$majorityVote != -1,]), \"\\n\")\n",
        "\n",
        "  return(ResultDataset)\n",
        "}\n",
        "\n",
        "calc.irr <- function() {\n",
        "  # pivot the dataframe to create one column for each participant\n",
        "  df_wide <- Feedback %>%\n",
        "    select(contentId, participantId, biased) %>%\n",
        "    pivot_wider(id_cols = participantId, names_from = contentId, values_from = biased)\n",
        "\n",
        "  df_no_contentids <- select(df_wide, -participantId)\n",
        "  df_matrix <- as.matrix(df_no_contentids)\n",
        "\n",
        "  # calculate Krippendorff's alpha\n",
        "  krippendorff_alpha <- kripp.alpha(df_matrix, method = \"nominal\")\n",
        "\n",
        "  # Fleiss' kappa eliminates missing values but we have a lot so not applicable\n",
        "\n",
        "  return(krippendorff_alpha)\n",
        "}"
      ],
      "metadata": {
        "id": "fKTPlCPjUqyV"
      },
      "execution_count": null,
      "outputs": []
    },
    {
      "cell_type": "markdown",
      "source": [
        "### First result"
      ],
      "metadata": {
        "id": "1dCE7bXt4Ia2"
      }
    },
    {
      "cell_type": "code",
      "source": [
        "ResultDataset <- calc.majority.vote()\n",
        "calc.irr()\n",
        "head(ResultDataset)"
      ],
      "metadata": {
        "colab": {
          "base_uri": "https://localhost:8080/",
          "height": 1000
        },
        "id": "hlgzGzSs5Zyf",
        "outputId": "ce052c0b-5f3e-434d-8ee3-b0b02102b92b"
      },
      "execution_count": null,
      "outputs": [
        {
          "output_type": "stream",
          "name": "stderr",
          "text": [
            "\u001b[1m\u001b[22m`summarise()` has grouped output by 'contentId'. You can override using the\n",
            "`.groups` argument.\n"
          ]
        },
        {
          "output_type": "stream",
          "name": "stdout",
          "text": [
            "Majority vote threshold:  5 \n",
            "# Total Feedback:  1997 \n",
            "# Total Sentences:  357 \n",
            "# Sentences with majority votes:  316 \n",
            "# Sentences with controverse majority votes:  24 \n",
            "# Sentences with decided majority votes:  307 \n"
          ]
        },
        {
          "output_type": "display_data",
          "data": {
            "text/plain": [
              " Krippendorff's alpha\n",
              "\n",
              " Subjects = 342 \n",
              "   Raters = 33 \n",
              "    alpha = 0.498 "
            ]
          },
          "metadata": {}
        },
        {
          "output_type": "display_data",
          "data": {
            "text/html": [
              "<table class=\"dataframe\">\n",
              "<caption>A data.frame: 6 × 10</caption>\n",
              "<thead>\n",
              "\t<tr><th></th><th scope=col>articleId</th><th scope=col>contentId</th><th scope=col>majorityVote</th><th scope=col>avgVote</th><th scope=col>votesBiased</th><th scope=col>votesNotBiased</th><th scope=col>classifierBiased</th><th scope=col>text</th><th scope=col>source</th><th scope=col>outlet</th></tr>\n",
              "\t<tr><th></th><th scope=col>&lt;chr&gt;</th><th scope=col>&lt;chr&gt;</th><th scope=col>&lt;dbl&gt;</th><th scope=col>&lt;dbl&gt;</th><th scope=col>&lt;int&gt;</th><th scope=col>&lt;int&gt;</th><th scope=col>&lt;int&gt;</th><th scope=col>&lt;chr&gt;</th><th scope=col>&lt;chr&gt;</th><th scope=col>&lt;chr&gt;</th></tr>\n",
              "</thead>\n",
              "<tbody>\n",
              "\t<tr><th scope=row>1</th><td>00d3bad9-ba2d-4a28-98f8-cc44fef37ae9</td><td>cdc102f5-88b2-4f1c-ba7d-9970ac9669cd</td><td>0</td><td>0.1428571</td><td>1</td><td>6</td><td>0</td><td>\"You think I'm joking,\" he continued. \"                                                                                                                                                        </td><td>https://www.theblaze.com/news/biden-white-boy-not-stupid</td><td>TheBlaze</td></tr>\n",
              "\t<tr><th scope=row>2</th><td>00d3bad9-ba2d-4a28-98f8-cc44fef37ae9</td><td>cb534c0b-5bea-4ade-b5da-cd766f6d5ab7</td><td>0</td><td>0.2500000</td><td>2</td><td>6</td><td>0</td><td>Speaking about the \"Divine Nine\" — the nine black Greek fraternities and sororities — Biden told the crowd that he is \"not stupid,\" despite being white, because he knows where the \"power is.\"</td><td>https://www.theblaze.com/news/biden-white-boy-not-stupid</td><td>TheBlaze</td></tr>\n",
              "\t<tr><th scope=row>3</th><td>00d3bad9-ba2d-4a28-98f8-cc44fef37ae9</td><td>1c03f90d-54c0-4a9b-9309-1818488d294f</td><td>0</td><td>0.2857143</td><td>2</td><td>5</td><td>0</td><td>I know where the power is.\"                                                                                                                                                                    </td><td>https://www.theblaze.com/news/biden-white-boy-not-stupid</td><td>TheBlaze</td></tr>\n",
              "\t<tr><th scope=row>4</th><td>00d3bad9-ba2d-4a28-98f8-cc44fef37ae9</td><td>be0165c0-fd53-438a-8fda-bb04df7d12e2</td><td>1</td><td>0.9000000</td><td>9</td><td>1</td><td>1</td><td>President Joe Biden made a bizarre race-related comment on Monday at a Black History Month event hosted at the White House.                                                                    </td><td>https://www.theblaze.com/news/biden-white-boy-not-stupid</td><td>TheBlaze</td></tr>\n",
              "\t<tr><th scope=row>5</th><td>00d3bad9-ba2d-4a28-98f8-cc44fef37ae9</td><td>cd0a2226-c30d-428f-b29d-1e6344b618ac</td><td>0</td><td>0.3750000</td><td>3</td><td>5</td><td>0</td><td>\"And, by the way, you know I'm not — I may be a white boy, but I'm not stupid,\" he added, drawing laughter from the crowd. \"                                                                   </td><td>https://www.theblaze.com/news/biden-white-boy-not-stupid</td><td>TheBlaze</td></tr>\n",
              "\t<tr><th scope=row>6</th><td>00d3bad9-ba2d-4a28-98f8-cc44fef37ae9</td><td>f9d6c257-4cea-4006-9803-f39412469a3c</td><td>0</td><td>0.2500000</td><td>2</td><td>6</td><td>0</td><td>are guaranteed to vote for them.                                                                                                                                                               </td><td>https://www.theblaze.com/news/biden-white-boy-not-stupid</td><td>TheBlaze</td></tr>\n",
              "</tbody>\n",
              "</table>\n"
            ],
            "text/markdown": "\nA data.frame: 6 × 10\n\n| <!--/--> | articleId &lt;chr&gt; | contentId &lt;chr&gt; | majorityVote &lt;dbl&gt; | avgVote &lt;dbl&gt; | votesBiased &lt;int&gt; | votesNotBiased &lt;int&gt; | classifierBiased &lt;int&gt; | text &lt;chr&gt; | source &lt;chr&gt; | outlet &lt;chr&gt; |\n|---|---|---|---|---|---|---|---|---|---|---|\n| 1 | 00d3bad9-ba2d-4a28-98f8-cc44fef37ae9 | cdc102f5-88b2-4f1c-ba7d-9970ac9669cd | 0 | 0.1428571 | 1 | 6 | 0 | \"You think I'm joking,\" he continued. \"                                                                                                                                                         | https://www.theblaze.com/news/biden-white-boy-not-stupid | TheBlaze |\n| 2 | 00d3bad9-ba2d-4a28-98f8-cc44fef37ae9 | cb534c0b-5bea-4ade-b5da-cd766f6d5ab7 | 0 | 0.2500000 | 2 | 6 | 0 | Speaking about the \"Divine Nine\" — the nine black Greek fraternities and sororities — Biden told the crowd that he is \"not stupid,\" despite being white, because he knows where the \"power is.\" | https://www.theblaze.com/news/biden-white-boy-not-stupid | TheBlaze |\n| 3 | 00d3bad9-ba2d-4a28-98f8-cc44fef37ae9 | 1c03f90d-54c0-4a9b-9309-1818488d294f | 0 | 0.2857143 | 2 | 5 | 0 | I know where the power is.\"                                                                                                                                                                     | https://www.theblaze.com/news/biden-white-boy-not-stupid | TheBlaze |\n| 4 | 00d3bad9-ba2d-4a28-98f8-cc44fef37ae9 | be0165c0-fd53-438a-8fda-bb04df7d12e2 | 1 | 0.9000000 | 9 | 1 | 1 | President Joe Biden made a bizarre race-related comment on Monday at a Black History Month event hosted at the White House.                                                                     | https://www.theblaze.com/news/biden-white-boy-not-stupid | TheBlaze |\n| 5 | 00d3bad9-ba2d-4a28-98f8-cc44fef37ae9 | cd0a2226-c30d-428f-b29d-1e6344b618ac | 0 | 0.3750000 | 3 | 5 | 0 | \"And, by the way, you know I'm not — I may be a white boy, but I'm not stupid,\" he added, drawing laughter from the crowd. \"                                                                    | https://www.theblaze.com/news/biden-white-boy-not-stupid | TheBlaze |\n| 6 | 00d3bad9-ba2d-4a28-98f8-cc44fef37ae9 | f9d6c257-4cea-4006-9803-f39412469a3c | 0 | 0.2500000 | 2 | 6 | 0 | are guaranteed to vote for them.                                                                                                                                                                | https://www.theblaze.com/news/biden-white-boy-not-stupid | TheBlaze |\n\n",
            "text/latex": "A data.frame: 6 × 10\n\\begin{tabular}{r|llllllllll}\n  & articleId & contentId & majorityVote & avgVote & votesBiased & votesNotBiased & classifierBiased & text & source & outlet\\\\\n  & <chr> & <chr> & <dbl> & <dbl> & <int> & <int> & <int> & <chr> & <chr> & <chr>\\\\\n\\hline\n\t1 & 00d3bad9-ba2d-4a28-98f8-cc44fef37ae9 & cdc102f5-88b2-4f1c-ba7d-9970ac9669cd & 0 & 0.1428571 & 1 & 6 & 0 & \"You think I'm joking,\" he continued. \"                                                                                                                                                         & https://www.theblaze.com/news/biden-white-boy-not-stupid & TheBlaze\\\\\n\t2 & 00d3bad9-ba2d-4a28-98f8-cc44fef37ae9 & cb534c0b-5bea-4ade-b5da-cd766f6d5ab7 & 0 & 0.2500000 & 2 & 6 & 0 & Speaking about the \"Divine Nine\" — the nine black Greek fraternities and sororities — Biden told the crowd that he is \"not stupid,\" despite being white, because he knows where the \"power is.\" & https://www.theblaze.com/news/biden-white-boy-not-stupid & TheBlaze\\\\\n\t3 & 00d3bad9-ba2d-4a28-98f8-cc44fef37ae9 & 1c03f90d-54c0-4a9b-9309-1818488d294f & 0 & 0.2857143 & 2 & 5 & 0 & I know where the power is.\"                                                                                                                                                                     & https://www.theblaze.com/news/biden-white-boy-not-stupid & TheBlaze\\\\\n\t4 & 00d3bad9-ba2d-4a28-98f8-cc44fef37ae9 & be0165c0-fd53-438a-8fda-bb04df7d12e2 & 1 & 0.9000000 & 9 & 1 & 1 & President Joe Biden made a bizarre race-related comment on Monday at a Black History Month event hosted at the White House.                                                                     & https://www.theblaze.com/news/biden-white-boy-not-stupid & TheBlaze\\\\\n\t5 & 00d3bad9-ba2d-4a28-98f8-cc44fef37ae9 & cd0a2226-c30d-428f-b29d-1e6344b618ac & 0 & 0.3750000 & 3 & 5 & 0 & \"And, by the way, you know I'm not — I may be a white boy, but I'm not stupid,\" he added, drawing laughter from the crowd. \"                                                                    & https://www.theblaze.com/news/biden-white-boy-not-stupid & TheBlaze\\\\\n\t6 & 00d3bad9-ba2d-4a28-98f8-cc44fef37ae9 & f9d6c257-4cea-4006-9803-f39412469a3c & 0 & 0.2500000 & 2 & 6 & 0 & are guaranteed to vote for them.                                                                                                                                                                & https://www.theblaze.com/news/biden-white-boy-not-stupid & TheBlaze\\\\\n\\end{tabular}\n",
            "text/plain": [
              "  articleId                            contentId                           \n",
              "1 00d3bad9-ba2d-4a28-98f8-cc44fef37ae9 cdc102f5-88b2-4f1c-ba7d-9970ac9669cd\n",
              "2 00d3bad9-ba2d-4a28-98f8-cc44fef37ae9 cb534c0b-5bea-4ade-b5da-cd766f6d5ab7\n",
              "3 00d3bad9-ba2d-4a28-98f8-cc44fef37ae9 1c03f90d-54c0-4a9b-9309-1818488d294f\n",
              "4 00d3bad9-ba2d-4a28-98f8-cc44fef37ae9 be0165c0-fd53-438a-8fda-bb04df7d12e2\n",
              "5 00d3bad9-ba2d-4a28-98f8-cc44fef37ae9 cd0a2226-c30d-428f-b29d-1e6344b618ac\n",
              "6 00d3bad9-ba2d-4a28-98f8-cc44fef37ae9 f9d6c257-4cea-4006-9803-f39412469a3c\n",
              "  majorityVote avgVote   votesBiased votesNotBiased classifierBiased\n",
              "1 0            0.1428571 1           6              0               \n",
              "2 0            0.2500000 2           6              0               \n",
              "3 0            0.2857143 2           5              0               \n",
              "4 1            0.9000000 9           1              1               \n",
              "5 0            0.3750000 3           5              0               \n",
              "6 0            0.2500000 2           6              0               \n",
              "  text                                                                                                                                                                                           \n",
              "1 \"You think I'm joking,\" he continued. \"                                                                                                                                                        \n",
              "2 Speaking about the \"Divine Nine\" — the nine black Greek fraternities and sororities — Biden told the crowd that he is \"not stupid,\" despite being white, because he knows where the \"power is.\"\n",
              "3 I know where the power is.\"                                                                                                                                                                    \n",
              "4 President Joe Biden made a bizarre race-related comment on Monday at a Black History Month event hosted at the White House.                                                                    \n",
              "5 \"And, by the way, you know I'm not — I may be a white boy, but I'm not stupid,\" he added, drawing laughter from the crowd. \"                                                                   \n",
              "6 are guaranteed to vote for them.                                                                                                                                                               \n",
              "  source                                                   outlet  \n",
              "1 https://www.theblaze.com/news/biden-white-boy-not-stupid TheBlaze\n",
              "2 https://www.theblaze.com/news/biden-white-boy-not-stupid TheBlaze\n",
              "3 https://www.theblaze.com/news/biden-white-boy-not-stupid TheBlaze\n",
              "4 https://www.theblaze.com/news/biden-white-boy-not-stupid TheBlaze\n",
              "5 https://www.theblaze.com/news/biden-white-boy-not-stupid TheBlaze\n",
              "6 https://www.theblaze.com/news/biden-white-boy-not-stupid TheBlaze"
            ]
          },
          "metadata": {}
        }
      ]
    },
    {
      "cell_type": "markdown",
      "source": [
        "### Detect and eliminate spammers"
      ],
      "metadata": {
        "id": "FRr_76nX53xE"
      }
    },
    {
      "cell_type": "code",
      "source": [
        "# Spammer detection\n",
        "df <- merge(Feedback, ResultDataset, by = \"contentId\")\n",
        "\n",
        "# Only based on decided majority votes\n",
        "dfonlydecided <- df %>% filter(majorityVote != -1)\n",
        "ParticipantWithSpammerScores <- dfonlydecided %>% \n",
        "  group_by(participantId) %>%\n",
        "  summarize(\n",
        "    sensitivity = sum(biased == 1 & majorityVote == 1) / sum(majorityVote == 1),\n",
        "    specificity = sum(biased == 0 & majorityVote == 0) / sum(majorityVote == 0),\n",
        "    nFeedback = n()\n",
        "  )\n",
        "\n",
        "# Assigning 0.5 if NaN ()\n",
        "ParticipantWithSpammerScores[is.na(ParticipantWithSpammerScores)] = 0.5\n",
        "\n",
        "ParticipantWithSpammerScores <- ParticipantWithSpammerScores %>% \n",
        "  group_by(participantId) %>%\n",
        "  summarize(\n",
        "    spammerScore = (sensitivity+specificity-1)^2\n",
        "  )"
      ],
      "metadata": {
        "id": "xiD66jh44rOS"
      },
      "execution_count": null,
      "outputs": []
    },
    {
      "cell_type": "code",
      "source": [
        "Q1 <- quantile(ParticipantWithSpammerScores$spammerScore, .05)"
      ],
      "metadata": {
        "id": "S9pCfin-80N2"
      },
      "execution_count": null,
      "outputs": []
    },
    {
      "cell_type": "code",
      "source": [
        "df <- ParticipantWithSpammerScores %>% arrange(spammerScore)\n",
        "ggplot(df, aes(x = spammerScore)) +\n",
        "  geom_histogram(fill = \"#0099f9\", bins=40) +\n",
        "  geom_vline(xintercept=Q1) +\n",
        "  annotate(\"text\", x=Q1+0.15, y=9.5, size=5, label=\"0.05-Percentile\") +\n",
        "  theme_light(base_size = 20) +\n",
        "  xlab(\"Spammer Score\") +\n",
        "  ylab(\"Frequency\")\n",
        "ggsave('/content/spammers.pdf', width=7.2, height=6)"
      ],
      "metadata": {
        "colab": {
          "base_uri": "https://localhost:8080/",
          "height": 437
        },
        "id": "sI5_Dccvexbo",
        "outputId": "4c0ca874-1afa-4eed-d0a3-2dde03a625e1"
      },
      "execution_count": null,
      "outputs": [
        {
          "output_type": "display_data",
          "data": {
            "text/plain": [
              "plot without title"
            ],
            "image/png": "[encoded data removed]"
          },
          "metadata": {
            "image/png": {
              "width": 420,
              "height": 420
            }
          }
        }
      ]
    },
    {
      "cell_type": "code",
      "source": [
        "ggplot(df, aes(x=1:nrow(df),y=spammerScore)) + \n",
        "    geom_point() +\n",
        "    geom_hline(yintercept=Q1) +\n",
        "    annotate(\"text\", x=20, y=Q1+0.03, size=5, label=\"0.05-Percentile\") +\n",
        "  theme_light(base_size = 20) +\n",
        "  xlab(\"Participants ordered by Spammer Score\") +\n",
        "  ylab(\"Spammer Score\")\n",
        "ggsave('/content/spammers.pdf', width=7.2, height=6)"
      ],
      "metadata": {
        "colab": {
          "base_uri": "https://localhost:8080/",
          "height": 437
        },
        "id": "GWwOAMpQ66nw",
        "outputId": "909947ab-cbcf-453d-9b99-ab63d85bd872"
      },
      "execution_count": null,
      "outputs": [
        {
          "output_type": "display_data",
          "data": {
            "text/plain": [
              "plot without title"
            ],
            "image/png": "[encoded data removed]"
          },
          "metadata": {
            "image/png": {
              "width": 420,
              "height": 420
            }
          }
        }
      ]
    },
    {
      "cell_type": "code",
      "source": [
        "Spammers <- ParticipantWithSpammerScores %>% filter(spammerScore <= Q1)\n",
        "Spammers"
      ],
      "metadata": {
        "colab": {
          "base_uri": "https://localhost:8080/",
          "height": 161
        },
        "id": "tw0RVn9e7nhM",
        "outputId": "823b69e2-5004-4827-cf09-11719752a4db"
      },
      "execution_count": null,
      "outputs": [
        {
          "output_type": "display_data",
          "data": {
            "text/html": [
              "<table class=\"dataframe\">\n",
              "<caption>A tibble: 2 × 2</caption>\n",
              "<thead>\n",
              "\t<tr><th scope=col>participantId</th><th scope=col>spammerScore</th></tr>\n",
              "\t<tr><th scope=col>&lt;chr&gt;</th><th scope=col>&lt;dbl&gt;</th></tr>\n",
              "</thead>\n",
              "<tbody>\n",
              "\t<tr><td>1648f816-c31a-49a8-828e-68605e63a6eb</td><td>0.00000000</td></tr>\n",
              "\t<tr><td>9ab5ae43-7f57-4562-b4ce-f1def5fcde62</td><td>0.02938776</td></tr>\n",
              "</tbody>\n",
              "</table>\n"
            ],
            "text/markdown": "\nA tibble: 2 × 2\n\n| participantId &lt;chr&gt; | spammerScore &lt;dbl&gt; |\n|---|---|\n| 1648f816-c31a-49a8-828e-68605e63a6eb | 0.00000000 |\n| 9ab5ae43-7f57-4562-b4ce-f1def5fcde62 | 0.02938776 |\n\n",
            "text/latex": "A tibble: 2 × 2\n\\begin{tabular}{ll}\n participantId & spammerScore\\\\\n <chr> & <dbl>\\\\\n\\hline\n\t 1648f816-c31a-49a8-828e-68605e63a6eb & 0.00000000\\\\\n\t 9ab5ae43-7f57-4562-b4ce-f1def5fcde62 & 0.02938776\\\\\n\\end{tabular}\n",
            "text/plain": [
              "  participantId                        spammerScore\n",
              "1 1648f816-c31a-49a8-828e-68605e63a6eb 0.00000000  \n",
              "2 9ab5ae43-7f57-4562-b4ce-f1def5fcde62 0.02938776  "
            ]
          },
          "metadata": {}
        }
      ]
    },
    {
      "cell_type": "code",
      "source": [
        "# Eliminate all feedback by spammers\n",
        "nrow(Feedback)\n",
        "Feedback <- Feedback[!(Feedback$participantId %in% Spammers$participantId),]\n",
        "nrow(Feedback)"
      ],
      "metadata": {
        "colab": {
          "base_uri": "https://localhost:8080/",
          "height": 52
        },
        "id": "OTHS5unS2yzq",
        "outputId": "f824a889-dbe8-4719-8fdf-d11c1ec07b81"
      },
      "execution_count": null,
      "outputs": [
        {
          "output_type": "display_data",
          "data": {
            "text/html": [
              "1997"
            ],
            "text/markdown": "1997",
            "text/latex": "1997",
            "text/plain": [
              "[1] 1997"
            ]
          },
          "metadata": {}
        },
        {
          "output_type": "display_data",
          "data": {
            "text/html": [
              "1950"
            ],
            "text/markdown": "1950",
            "text/latex": "1950",
            "text/plain": [
              "[1] 1950"
            ]
          },
          "metadata": {}
        }
      ]
    },
    {
      "cell_type": "markdown",
      "source": [
        "### Second result"
      ],
      "metadata": {
        "id": "eFtSZzy35_vd"
      }
    },
    {
      "cell_type": "code",
      "source": [
        "ResultDataset <- calc.majority.vote()\n",
        "calc.irr()\n",
        "head(ResultDataset)"
      ],
      "metadata": {
        "colab": {
          "base_uri": "https://localhost:8080/",
          "height": 1000
        },
        "id": "4i_dCS_U6DHp",
        "outputId": "0e8e2e43-1b31-470f-d9f9-4b7e0a4b9c87"
      },
      "execution_count": null,
      "outputs": [
        {
          "output_type": "stream",
          "name": "stderr",
          "text": [
            "\u001b[1m\u001b[22m`summarise()` has grouped output by 'contentId'. You can override using the\n",
            "`.groups` argument.\n"
          ]
        },
        {
          "output_type": "stream",
          "name": "stdout",
          "text": [
            "Majority vote threshold:  5 \n",
            "# Total Feedback:  1950 \n",
            "# Total Sentences:  357 \n",
            "# Sentences with majority votes:  316 \n",
            "# Sentences with controverse majority votes:  24 \n",
            "# Sentences with decided majority votes:  310 \n"
          ]
        },
        {
          "output_type": "display_data",
          "data": {
            "text/plain": [
              " Krippendorff's alpha\n",
              "\n",
              " Subjects = 342 \n",
              "   Raters = 31 \n",
              "    alpha = 0.504 "
            ]
          },
          "metadata": {}
        },
        {
          "output_type": "display_data",
          "data": {
            "text/html": [
              "<table class=\"dataframe\">\n",
              "<caption>A data.frame: 6 × 10</caption>\n",
              "<thead>\n",
              "\t<tr><th></th><th scope=col>articleId</th><th scope=col>contentId</th><th scope=col>majorityVote</th><th scope=col>avgVote</th><th scope=col>votesBiased</th><th scope=col>votesNotBiased</th><th scope=col>classifierBiased</th><th scope=col>text</th><th scope=col>source</th><th scope=col>outlet</th></tr>\n",
              "\t<tr><th></th><th scope=col>&lt;chr&gt;</th><th scope=col>&lt;chr&gt;</th><th scope=col>&lt;dbl&gt;</th><th scope=col>&lt;dbl&gt;</th><th scope=col>&lt;int&gt;</th><th scope=col>&lt;int&gt;</th><th scope=col>&lt;int&gt;</th><th scope=col>&lt;chr&gt;</th><th scope=col>&lt;chr&gt;</th><th scope=col>&lt;chr&gt;</th></tr>\n",
              "</thead>\n",
              "<tbody>\n",
              "\t<tr><th scope=row>1</th><td>00d3bad9-ba2d-4a28-98f8-cc44fef37ae9</td><td>cdc102f5-88b2-4f1c-ba7d-9970ac9669cd</td><td>0</td><td>0.1428571</td><td>1</td><td>6</td><td>0</td><td>\"You think I'm joking,\" he continued. \"                                                                                                                                                        </td><td>https://www.theblaze.com/news/biden-white-boy-not-stupid</td><td>TheBlaze</td></tr>\n",
              "\t<tr><th scope=row>2</th><td>00d3bad9-ba2d-4a28-98f8-cc44fef37ae9</td><td>cb534c0b-5bea-4ade-b5da-cd766f6d5ab7</td><td>0</td><td>0.1428571</td><td>1</td><td>6</td><td>0</td><td>Speaking about the \"Divine Nine\" — the nine black Greek fraternities and sororities — Biden told the crowd that he is \"not stupid,\" despite being white, because he knows where the \"power is.\"</td><td>https://www.theblaze.com/news/biden-white-boy-not-stupid</td><td>TheBlaze</td></tr>\n",
              "\t<tr><th scope=row>3</th><td>00d3bad9-ba2d-4a28-98f8-cc44fef37ae9</td><td>1c03f90d-54c0-4a9b-9309-1818488d294f</td><td>0</td><td>0.2857143</td><td>2</td><td>5</td><td>0</td><td>I know where the power is.\"                                                                                                                                                                    </td><td>https://www.theblaze.com/news/biden-white-boy-not-stupid</td><td>TheBlaze</td></tr>\n",
              "\t<tr><th scope=row>4</th><td>00d3bad9-ba2d-4a28-98f8-cc44fef37ae9</td><td>be0165c0-fd53-438a-8fda-bb04df7d12e2</td><td>1</td><td>0.8888889</td><td>8</td><td>1</td><td>1</td><td>President Joe Biden made a bizarre race-related comment on Monday at a Black History Month event hosted at the White House.                                                                    </td><td>https://www.theblaze.com/news/biden-white-boy-not-stupid</td><td>TheBlaze</td></tr>\n",
              "\t<tr><th scope=row>5</th><td>00d3bad9-ba2d-4a28-98f8-cc44fef37ae9</td><td>cd0a2226-c30d-428f-b29d-1e6344b618ac</td><td>0</td><td>0.2857143</td><td>2</td><td>5</td><td>0</td><td>\"And, by the way, you know I'm not — I may be a white boy, but I'm not stupid,\" he added, drawing laughter from the crowd. \"                                                                   </td><td>https://www.theblaze.com/news/biden-white-boy-not-stupid</td><td>TheBlaze</td></tr>\n",
              "\t<tr><th scope=row>6</th><td>00d3bad9-ba2d-4a28-98f8-cc44fef37ae9</td><td>f9d6c257-4cea-4006-9803-f39412469a3c</td><td>0</td><td>0.2857143</td><td>2</td><td>5</td><td>0</td><td>are guaranteed to vote for them.                                                                                                                                                               </td><td>https://www.theblaze.com/news/biden-white-boy-not-stupid</td><td>TheBlaze</td></tr>\n",
              "</tbody>\n",
              "</table>\n"
            ],
            "text/markdown": "\nA data.frame: 6 × 10\n\n| <!--/--> | articleId &lt;chr&gt; | contentId &lt;chr&gt; | majorityVote &lt;dbl&gt; | avgVote &lt;dbl&gt; | votesBiased &lt;int&gt; | votesNotBiased &lt;int&gt; | classifierBiased &lt;int&gt; | text &lt;chr&gt; | source &lt;chr&gt; | outlet &lt;chr&gt; |\n|---|---|---|---|---|---|---|---|---|---|---|\n| 1 | 00d3bad9-ba2d-4a28-98f8-cc44fef37ae9 | cdc102f5-88b2-4f1c-ba7d-9970ac9669cd | 0 | 0.1428571 | 1 | 6 | 0 | \"You think I'm joking,\" he continued. \"                                                                                                                                                         | https://www.theblaze.com/news/biden-white-boy-not-stupid | TheBlaze |\n| 2 | 00d3bad9-ba2d-4a28-98f8-cc44fef37ae9 | cb534c0b-5bea-4ade-b5da-cd766f6d5ab7 | 0 | 0.1428571 | 1 | 6 | 0 | Speaking about the \"Divine Nine\" — the nine black Greek fraternities and sororities — Biden told the crowd that he is \"not stupid,\" despite being white, because he knows where the \"power is.\" | https://www.theblaze.com/news/biden-white-boy-not-stupid | TheBlaze |\n| 3 | 00d3bad9-ba2d-4a28-98f8-cc44fef37ae9 | 1c03f90d-54c0-4a9b-9309-1818488d294f | 0 | 0.2857143 | 2 | 5 | 0 | I know where the power is.\"                                                                                                                                                                     | https://www.theblaze.com/news/biden-white-boy-not-stupid | TheBlaze |\n| 4 | 00d3bad9-ba2d-4a28-98f8-cc44fef37ae9 | be0165c0-fd53-438a-8fda-bb04df7d12e2 | 1 | 0.8888889 | 8 | 1 | 1 | President Joe Biden made a bizarre race-related comment on Monday at a Black History Month event hosted at the White House.                                                                     | https://www.theblaze.com/news/biden-white-boy-not-stupid | TheBlaze |\n| 5 | 00d3bad9-ba2d-4a28-98f8-cc44fef37ae9 | cd0a2226-c30d-428f-b29d-1e6344b618ac | 0 | 0.2857143 | 2 | 5 | 0 | \"And, by the way, you know I'm not — I may be a white boy, but I'm not stupid,\" he added, drawing laughter from the crowd. \"                                                                    | https://www.theblaze.com/news/biden-white-boy-not-stupid | TheBlaze |\n| 6 | 00d3bad9-ba2d-4a28-98f8-cc44fef37ae9 | f9d6c257-4cea-4006-9803-f39412469a3c | 0 | 0.2857143 | 2 | 5 | 0 | are guaranteed to vote for them.                                                                                                                                                                | https://www.theblaze.com/news/biden-white-boy-not-stupid | TheBlaze |\n\n",
            "text/latex": "A data.frame: 6 × 10\n\\begin{tabular}{r|llllllllll}\n  & articleId & contentId & majorityVote & avgVote & votesBiased & votesNotBiased & classifierBiased & text & source & outlet\\\\\n  & <chr> & <chr> & <dbl> & <dbl> & <int> & <int> & <int> & <chr> & <chr> & <chr>\\\\\n\\hline\n\t1 & 00d3bad9-ba2d-4a28-98f8-cc44fef37ae9 & cdc102f5-88b2-4f1c-ba7d-9970ac9669cd & 0 & 0.1428571 & 1 & 6 & 0 & \"You think I'm joking,\" he continued. \"                                                                                                                                                         & https://www.theblaze.com/news/biden-white-boy-not-stupid & TheBlaze\\\\\n\t2 & 00d3bad9-ba2d-4a28-98f8-cc44fef37ae9 & cb534c0b-5bea-4ade-b5da-cd766f6d5ab7 & 0 & 0.1428571 & 1 & 6 & 0 & Speaking about the \"Divine Nine\" — the nine black Greek fraternities and sororities — Biden told the crowd that he is \"not stupid,\" despite being white, because he knows where the \"power is.\" & https://www.theblaze.com/news/biden-white-boy-not-stupid & TheBlaze\\\\\n\t3 & 00d3bad9-ba2d-4a28-98f8-cc44fef37ae9 & 1c03f90d-54c0-4a9b-9309-1818488d294f & 0 & 0.2857143 & 2 & 5 & 0 & I know where the power is.\"                                                                                                                                                                     & https://www.theblaze.com/news/biden-white-boy-not-stupid & TheBlaze\\\\\n\t4 & 00d3bad9-ba2d-4a28-98f8-cc44fef37ae9 & be0165c0-fd53-438a-8fda-bb04df7d12e2 & 1 & 0.8888889 & 8 & 1 & 1 & President Joe Biden made a bizarre race-related comment on Monday at a Black History Month event hosted at the White House.                                                                     & https://www.theblaze.com/news/biden-white-boy-not-stupid & TheBlaze\\\\\n\t5 & 00d3bad9-ba2d-4a28-98f8-cc44fef37ae9 & cd0a2226-c30d-428f-b29d-1e6344b618ac & 0 & 0.2857143 & 2 & 5 & 0 & \"And, by the way, you know I'm not — I may be a white boy, but I'm not stupid,\" he added, drawing laughter from the crowd. \"                                                                    & https://www.theblaze.com/news/biden-white-boy-not-stupid & TheBlaze\\\\\n\t6 & 00d3bad9-ba2d-4a28-98f8-cc44fef37ae9 & f9d6c257-4cea-4006-9803-f39412469a3c & 0 & 0.2857143 & 2 & 5 & 0 & are guaranteed to vote for them.                                                                                                                                                                & https://www.theblaze.com/news/biden-white-boy-not-stupid & TheBlaze\\\\\n\\end{tabular}\n",
            "text/plain": [
              "  articleId                            contentId                           \n",
              "1 00d3bad9-ba2d-4a28-98f8-cc44fef37ae9 cdc102f5-88b2-4f1c-ba7d-9970ac9669cd\n",
              "2 00d3bad9-ba2d-4a28-98f8-cc44fef37ae9 cb534c0b-5bea-4ade-b5da-cd766f6d5ab7\n",
              "3 00d3bad9-ba2d-4a28-98f8-cc44fef37ae9 1c03f90d-54c0-4a9b-9309-1818488d294f\n",
              "4 00d3bad9-ba2d-4a28-98f8-cc44fef37ae9 be0165c0-fd53-438a-8fda-bb04df7d12e2\n",
              "5 00d3bad9-ba2d-4a28-98f8-cc44fef37ae9 cd0a2226-c30d-428f-b29d-1e6344b618ac\n",
              "6 00d3bad9-ba2d-4a28-98f8-cc44fef37ae9 f9d6c257-4cea-4006-9803-f39412469a3c\n",
              "  majorityVote avgVote   votesBiased votesNotBiased classifierBiased\n",
              "1 0            0.1428571 1           6              0               \n",
              "2 0            0.1428571 1           6              0               \n",
              "3 0            0.2857143 2           5              0               \n",
              "4 1            0.8888889 8           1              1               \n",
              "5 0            0.2857143 2           5              0               \n",
              "6 0            0.2857143 2           5              0               \n",
              "  text                                                                                                                                                                                           \n",
              "1 \"You think I'm joking,\" he continued. \"                                                                                                                                                        \n",
              "2 Speaking about the \"Divine Nine\" — the nine black Greek fraternities and sororities — Biden told the crowd that he is \"not stupid,\" despite being white, because he knows where the \"power is.\"\n",
              "3 I know where the power is.\"                                                                                                                                                                    \n",
              "4 President Joe Biden made a bizarre race-related comment on Monday at a Black History Month event hosted at the White House.                                                                    \n",
              "5 \"And, by the way, you know I'm not — I may be a white boy, but I'm not stupid,\" he added, drawing laughter from the crowd. \"                                                                   \n",
              "6 are guaranteed to vote for them.                                                                                                                                                               \n",
              "  source                                                   outlet  \n",
              "1 https://www.theblaze.com/news/biden-white-boy-not-stupid TheBlaze\n",
              "2 https://www.theblaze.com/news/biden-white-boy-not-stupid TheBlaze\n",
              "3 https://www.theblaze.com/news/biden-white-boy-not-stupid TheBlaze\n",
              "4 https://www.theblaze.com/news/biden-white-boy-not-stupid TheBlaze\n",
              "5 https://www.theblaze.com/news/biden-white-boy-not-stupid TheBlaze\n",
              "6 https://www.theblaze.com/news/biden-white-boy-not-stupid TheBlaze"
            ]
          },
          "metadata": {}
        }
      ]
    },
    {
      "cell_type": "code",
      "source": [
        "TotalAnnotators <- merge(Feedback, Content, by.x = \"contentId\", by.y = \"id\")\n",
        "TotalAnnotators <- TotalAnnotators %>%\n",
        "  group_by(articleId) %>%\n",
        "  summarise(\n",
        "    totalAnnotators = n_distinct(participantId)\n",
        "  )\n",
        "\n",
        "TotalAnnotators"
      ],
      "metadata": {
        "colab": {
          "base_uri": "https://localhost:8080/",
          "height": 474
        },
        "id": "8QX2y2wFndKb",
        "outputId": "62af0e0d-408b-45b3-9954-7dbe235aaddb"
      },
      "execution_count": null,
      "outputs": [
        {
          "output_type": "display_data",
          "data": {
            "text/html": [
              "<table class=\"dataframe\">\n",
              "<caption>A tibble: 12 × 2</caption>\n",
              "<thead>\n",
              "\t<tr><th scope=col>articleId</th><th scope=col>totalAnnotators</th></tr>\n",
              "\t<tr><th scope=col>&lt;chr&gt;</th><th scope=col>&lt;int&gt;</th></tr>\n",
              "</thead>\n",
              "<tbody>\n",
              "\t<tr><td>00d3bad9-ba2d-4a28-98f8-cc44fef37ae9</td><td>11</td></tr>\n",
              "\t<tr><td>0f8697f6-4de6-4e45-93f7-5bc689bf6548</td><td> 7</td></tr>\n",
              "\t<tr><td>0fb6287d-7e32-4867-adae-075531fb5003</td><td>12</td></tr>\n",
              "\t<tr><td>3a93fcc6-bcf7-49f0-b58f-51c8a0a28eec</td><td> 9</td></tr>\n",
              "\t<tr><td>4f1be26f-f7fa-4234-919f-175825001232</td><td> 6</td></tr>\n",
              "\t<tr><td>66e17977-193e-4f5b-8acb-f1148adf3bbe</td><td> 6</td></tr>\n",
              "\t<tr><td>68be8d34-e8eb-4821-a8b8-4fb286174f40</td><td> 8</td></tr>\n",
              "\t<tr><td>99defa74-7917-4f11-80c4-3d470d075b91</td><td> 6</td></tr>\n",
              "\t<tr><td>9a4c7cda-fd8c-45ef-a7fe-ec7d7c70726b</td><td>13</td></tr>\n",
              "\t<tr><td>abad62dc-27a8-4b56-8363-ef00109c78f7</td><td>13</td></tr>\n",
              "\t<tr><td>b3d9afea-ab3c-4c0c-a753-6784d0b49fef</td><td> 6</td></tr>\n",
              "\t<tr><td>dc7f4951-2a7d-484f-ae8c-cfe15d3f454c</td><td> 8</td></tr>\n",
              "</tbody>\n",
              "</table>\n"
            ],
            "text/markdown": "\nA tibble: 12 × 2\n\n| articleId &lt;chr&gt; | totalAnnotators &lt;int&gt; |\n|---|---|\n| 00d3bad9-ba2d-4a28-98f8-cc44fef37ae9 | 11 |\n| 0f8697f6-4de6-4e45-93f7-5bc689bf6548 |  7 |\n| 0fb6287d-7e32-4867-adae-075531fb5003 | 12 |\n| 3a93fcc6-bcf7-49f0-b58f-51c8a0a28eec |  9 |\n| 4f1be26f-f7fa-4234-919f-175825001232 |  6 |\n| 66e17977-193e-4f5b-8acb-f1148adf3bbe |  6 |\n| 68be8d34-e8eb-4821-a8b8-4fb286174f40 |  8 |\n| 99defa74-7917-4f11-80c4-3d470d075b91 |  6 |\n| 9a4c7cda-fd8c-45ef-a7fe-ec7d7c70726b | 13 |\n| abad62dc-27a8-4b56-8363-ef00109c78f7 | 13 |\n| b3d9afea-ab3c-4c0c-a753-6784d0b49fef |  6 |\n| dc7f4951-2a7d-484f-ae8c-cfe15d3f454c |  8 |\n\n",
            "text/latex": "A tibble: 12 × 2\n\\begin{tabular}{ll}\n articleId & totalAnnotators\\\\\n <chr> & <int>\\\\\n\\hline\n\t 00d3bad9-ba2d-4a28-98f8-cc44fef37ae9 & 11\\\\\n\t 0f8697f6-4de6-4e45-93f7-5bc689bf6548 &  7\\\\\n\t 0fb6287d-7e32-4867-adae-075531fb5003 & 12\\\\\n\t 3a93fcc6-bcf7-49f0-b58f-51c8a0a28eec &  9\\\\\n\t 4f1be26f-f7fa-4234-919f-175825001232 &  6\\\\\n\t 66e17977-193e-4f5b-8acb-f1148adf3bbe &  6\\\\\n\t 68be8d34-e8eb-4821-a8b8-4fb286174f40 &  8\\\\\n\t 99defa74-7917-4f11-80c4-3d470d075b91 &  6\\\\\n\t 9a4c7cda-fd8c-45ef-a7fe-ec7d7c70726b & 13\\\\\n\t abad62dc-27a8-4b56-8363-ef00109c78f7 & 13\\\\\n\t b3d9afea-ab3c-4c0c-a753-6784d0b49fef &  6\\\\\n\t dc7f4951-2a7d-484f-ae8c-cfe15d3f454c &  8\\\\\n\\end{tabular}\n",
            "text/plain": [
              "   articleId                            totalAnnotators\n",
              "1  00d3bad9-ba2d-4a28-98f8-cc44fef37ae9 11             \n",
              "2  0f8697f6-4de6-4e45-93f7-5bc689bf6548  7             \n",
              "3  0fb6287d-7e32-4867-adae-075531fb5003 12             \n",
              "4  3a93fcc6-bcf7-49f0-b58f-51c8a0a28eec  9             \n",
              "5  4f1be26f-f7fa-4234-919f-175825001232  6             \n",
              "6  66e17977-193e-4f5b-8acb-f1148adf3bbe  6             \n",
              "7  68be8d34-e8eb-4821-a8b8-4fb286174f40  8             \n",
              "8  99defa74-7917-4f11-80c4-3d470d075b91  6             \n",
              "9  9a4c7cda-fd8c-45ef-a7fe-ec7d7c70726b 13             \n",
              "10 abad62dc-27a8-4b56-8363-ef00109c78f7 13             \n",
              "11 b3d9afea-ab3c-4c0c-a753-6784d0b49fef  6             \n",
              "12 dc7f4951-2a7d-484f-ae8c-cfe15d3f454c  8             "
            ]
          },
          "metadata": {}
        }
      ]
    },
    {
      "cell_type": "code",
      "source": [
        "ArticleStats <- ResultDataset %>%\n",
        "  group_by(articleId, outlet) %>%\n",
        "  summarise(\n",
        "    totalVotes = sum(votesBiased) + sum(votesNotBiased),\n",
        "    votesPerSentence = totalVotes/n(),\n",
        "    meanVote = mean(avgVote)\n",
        "    # precisionClassifier = sum(classifierBiased & majorityVote) / sum(classifierBiased),\n",
        "    # recallClassifier = sum(classifierBiased & majorityVote) / sum(majorityVote),\n",
        "    # f1Classifier = 2 * (precisionClassifier * recallClassifier) / (precisionClassifier + recallClassifier)\n",
        "  )\n",
        "ArticleStats <- merge(ArticleStats, TotalAnnotators, by = \"articleId\")\n",
        "ArticleStats"
      ],
      "metadata": {
        "colab": {
          "base_uri": "https://localhost:8080/",
          "height": 509
        },
        "id": "QMleNwP-c75W",
        "outputId": "990ba636-76aa-43cd-e046-41296bdeb35a"
      },
      "execution_count": null,
      "outputs": [
        {
          "output_type": "stream",
          "name": "stderr",
          "text": [
            "\u001b[1m\u001b[22m`summarise()` has grouped output by 'articleId'. You can override using the\n",
            "`.groups` argument.\n"
          ]
        },
        {
          "output_type": "display_data",
          "data": {
            "text/html": [
              "<table class=\"dataframe\">\n",
              "<caption>A data.frame: 12 × 6</caption>\n",
              "<thead>\n",
              "\t<tr><th scope=col>articleId</th><th scope=col>outlet</th><th scope=col>totalVotes</th><th scope=col>votesPerSentence</th><th scope=col>meanVote</th><th scope=col>totalAnnotators</th></tr>\n",
              "\t<tr><th scope=col>&lt;chr&gt;</th><th scope=col>&lt;chr&gt;</th><th scope=col>&lt;int&gt;</th><th scope=col>&lt;dbl&gt;</th><th scope=col>&lt;dbl&gt;</th><th scope=col>&lt;int&gt;</th></tr>\n",
              "</thead>\n",
              "<tbody>\n",
              "\t<tr><td>00d3bad9-ba2d-4a28-98f8-cc44fef37ae9</td><td>TheBlaze       </td><td>139</td><td>7.722222</td><td>0.36571869</td><td>11</td></tr>\n",
              "\t<tr><td>0f8697f6-4de6-4e45-93f7-5bc689bf6548</td><td>Alternet       </td><td>188</td><td>5.222222</td><td>0.54153439</td><td> 7</td></tr>\n",
              "\t<tr><td>0fb6287d-7e32-4867-adae-075531fb5003</td><td>The Daily Beast</td><td>243</td><td>5.651163</td><td>0.15683832</td><td>12</td></tr>\n",
              "\t<tr><td>3a93fcc6-bcf7-49f0-b58f-51c8a0a28eec</td><td>Reuters        </td><td>172</td><td>5.548387</td><td>0.17035330</td><td> 9</td></tr>\n",
              "\t<tr><td>4f1be26f-f7fa-4234-919f-175825001232</td><td>The Guardian   </td><td> 86</td><td>5.058824</td><td>0.05490196</td><td> 6</td></tr>\n",
              "\t<tr><td>66e17977-193e-4f5b-8acb-f1148adf3bbe</td><td>The Daily Beast</td><td> 48</td><td>5.333333</td><td>0.60000000</td><td> 6</td></tr>\n",
              "\t<tr><td>68be8d34-e8eb-4821-a8b8-4fb286174f40</td><td>Reuters        </td><td>167</td><td>5.387097</td><td>0.06155914</td><td> 8</td></tr>\n",
              "\t<tr><td>99defa74-7917-4f11-80c4-3d470d075b91</td><td>The Daily Beast</td><td>170</td><td>5.151515</td><td>0.75252525</td><td> 6</td></tr>\n",
              "\t<tr><td>9a4c7cda-fd8c-45ef-a7fe-ec7d7c70726b</td><td>Breitbart      </td><td>110</td><td>6.875000</td><td>0.28911210</td><td>13</td></tr>\n",
              "\t<tr><td>abad62dc-27a8-4b56-8363-ef00109c78f7</td><td>The Federalist </td><td>243</td><td>7.363636</td><td>0.64797324</td><td>13</td></tr>\n",
              "\t<tr><td>b3d9afea-ab3c-4c0c-a753-6784d0b49fef</td><td>The Guardian   </td><td> 96</td><td>5.052632</td><td>0.00877193</td><td> 6</td></tr>\n",
              "\t<tr><td>dc7f4951-2a7d-484f-ae8c-cfe15d3f454c</td><td>Fox News       </td><td>186</td><td>6.200000</td><td>0.25380952</td><td> 8</td></tr>\n",
              "</tbody>\n",
              "</table>\n"
            ],
            "text/markdown": "\nA data.frame: 12 × 6\n\n| articleId &lt;chr&gt; | outlet &lt;chr&gt; | totalVotes &lt;int&gt; | votesPerSentence &lt;dbl&gt; | meanVote &lt;dbl&gt; | totalAnnotators &lt;int&gt; |\n|---|---|---|---|---|---|\n| 00d3bad9-ba2d-4a28-98f8-cc44fef37ae9 | TheBlaze        | 139 | 7.722222 | 0.36571869 | 11 |\n| 0f8697f6-4de6-4e45-93f7-5bc689bf6548 | Alternet        | 188 | 5.222222 | 0.54153439 |  7 |\n| 0fb6287d-7e32-4867-adae-075531fb5003 | The Daily Beast | 243 | 5.651163 | 0.15683832 | 12 |\n| 3a93fcc6-bcf7-49f0-b58f-51c8a0a28eec | Reuters         | 172 | 5.548387 | 0.17035330 |  9 |\n| 4f1be26f-f7fa-4234-919f-175825001232 | The Guardian    |  86 | 5.058824 | 0.05490196 |  6 |\n| 66e17977-193e-4f5b-8acb-f1148adf3bbe | The Daily Beast |  48 | 5.333333 | 0.60000000 |  6 |\n| 68be8d34-e8eb-4821-a8b8-4fb286174f40 | Reuters         | 167 | 5.387097 | 0.06155914 |  8 |\n| 99defa74-7917-4f11-80c4-3d470d075b91 | The Daily Beast | 170 | 5.151515 | 0.75252525 |  6 |\n| 9a4c7cda-fd8c-45ef-a7fe-ec7d7c70726b | Breitbart       | 110 | 6.875000 | 0.28911210 | 13 |\n| abad62dc-27a8-4b56-8363-ef00109c78f7 | The Federalist  | 243 | 7.363636 | 0.64797324 | 13 |\n| b3d9afea-ab3c-4c0c-a753-6784d0b49fef | The Guardian    |  96 | 5.052632 | 0.00877193 |  6 |\n| dc7f4951-2a7d-484f-ae8c-cfe15d3f454c | Fox News        | 186 | 6.200000 | 0.25380952 |  8 |\n\n",
            "text/latex": "A data.frame: 12 × 6\n\\begin{tabular}{llllll}\n articleId & outlet & totalVotes & votesPerSentence & meanVote & totalAnnotators\\\\\n <chr> & <chr> & <int> & <dbl> & <dbl> & <int>\\\\\n\\hline\n\t 00d3bad9-ba2d-4a28-98f8-cc44fef37ae9 & TheBlaze        & 139 & 7.722222 & 0.36571869 & 11\\\\\n\t 0f8697f6-4de6-4e45-93f7-5bc689bf6548 & Alternet        & 188 & 5.222222 & 0.54153439 &  7\\\\\n\t 0fb6287d-7e32-4867-adae-075531fb5003 & The Daily Beast & 243 & 5.651163 & 0.15683832 & 12\\\\\n\t 3a93fcc6-bcf7-49f0-b58f-51c8a0a28eec & Reuters         & 172 & 5.548387 & 0.17035330 &  9\\\\\n\t 4f1be26f-f7fa-4234-919f-175825001232 & The Guardian    &  86 & 5.058824 & 0.05490196 &  6\\\\\n\t 66e17977-193e-4f5b-8acb-f1148adf3bbe & The Daily Beast &  48 & 5.333333 & 0.60000000 &  6\\\\\n\t 68be8d34-e8eb-4821-a8b8-4fb286174f40 & Reuters         & 167 & 5.387097 & 0.06155914 &  8\\\\\n\t 99defa74-7917-4f11-80c4-3d470d075b91 & The Daily Beast & 170 & 5.151515 & 0.75252525 &  6\\\\\n\t 9a4c7cda-fd8c-45ef-a7fe-ec7d7c70726b & Breitbart       & 110 & 6.875000 & 0.28911210 & 13\\\\\n\t abad62dc-27a8-4b56-8363-ef00109c78f7 & The Federalist  & 243 & 7.363636 & 0.64797324 & 13\\\\\n\t b3d9afea-ab3c-4c0c-a753-6784d0b49fef & The Guardian    &  96 & 5.052632 & 0.00877193 &  6\\\\\n\t dc7f4951-2a7d-484f-ae8c-cfe15d3f454c & Fox News        & 186 & 6.200000 & 0.25380952 &  8\\\\\n\\end{tabular}\n",
            "text/plain": [
              "   articleId                            outlet          totalVotes\n",
              "1  00d3bad9-ba2d-4a28-98f8-cc44fef37ae9 TheBlaze        139       \n",
              "2  0f8697f6-4de6-4e45-93f7-5bc689bf6548 Alternet        188       \n",
              "3  0fb6287d-7e32-4867-adae-075531fb5003 The Daily Beast 243       \n",
              "4  3a93fcc6-bcf7-49f0-b58f-51c8a0a28eec Reuters         172       \n",
              "5  4f1be26f-f7fa-4234-919f-175825001232 The Guardian     86       \n",
              "6  66e17977-193e-4f5b-8acb-f1148adf3bbe The Daily Beast  48       \n",
              "7  68be8d34-e8eb-4821-a8b8-4fb286174f40 Reuters         167       \n",
              "8  99defa74-7917-4f11-80c4-3d470d075b91 The Daily Beast 170       \n",
              "9  9a4c7cda-fd8c-45ef-a7fe-ec7d7c70726b Breitbart       110       \n",
              "10 abad62dc-27a8-4b56-8363-ef00109c78f7 The Federalist  243       \n",
              "11 b3d9afea-ab3c-4c0c-a753-6784d0b49fef The Guardian     96       \n",
              "12 dc7f4951-2a7d-484f-ae8c-cfe15d3f454c Fox News        186       \n",
              "   votesPerSentence meanVote   totalAnnotators\n",
              "1  7.722222         0.36571869 11             \n",
              "2  5.222222         0.54153439  7             \n",
              "3  5.651163         0.15683832 12             \n",
              "4  5.548387         0.17035330  9             \n",
              "5  5.058824         0.05490196  6             \n",
              "6  5.333333         0.60000000  6             \n",
              "7  5.387097         0.06155914  8             \n",
              "8  5.151515         0.75252525  6             \n",
              "9  6.875000         0.28911210 13             \n",
              "10 7.363636         0.64797324 13             \n",
              "11 5.052632         0.00877193  6             \n",
              "12 6.200000         0.25380952  8             "
            ]
          },
          "metadata": {}
        }
      ]
    },
    {
      "cell_type": "code",
      "source": [
        "TotalSentences <- Content %>%\n",
        "  group_by(articleId) %>%\n",
        "  summarise(\n",
        "    totalSentences = n()\n",
        "  )\n",
        "\n",
        "TotalSentences"
      ],
      "metadata": {
        "colab": {
          "base_uri": "https://localhost:8080/",
          "height": 474
        },
        "id": "JYvG8xvbPiJE",
        "outputId": "e974c75c-54e0-43a2-bbeb-890b66264a50"
      },
      "execution_count": null,
      "outputs": [
        {
          "output_type": "display_data",
          "data": {
            "text/html": [
              "<table class=\"dataframe\">\n",
              "<caption>A tibble: 12 × 2</caption>\n",
              "<thead>\n",
              "\t<tr><th scope=col>articleId</th><th scope=col>totalSentences</th></tr>\n",
              "\t<tr><th scope=col>&lt;chr&gt;</th><th scope=col>&lt;int&gt;</th></tr>\n",
              "</thead>\n",
              "<tbody>\n",
              "\t<tr><td>00d3bad9-ba2d-4a28-98f8-cc44fef37ae9</td><td>19</td></tr>\n",
              "\t<tr><td>0f8697f6-4de6-4e45-93f7-5bc689bf6548</td><td>37</td></tr>\n",
              "\t<tr><td>0fb6287d-7e32-4867-adae-075531fb5003</td><td>45</td></tr>\n",
              "\t<tr><td>3a93fcc6-bcf7-49f0-b58f-51c8a0a28eec</td><td>33</td></tr>\n",
              "\t<tr><td>4f1be26f-f7fa-4234-919f-175825001232</td><td>18</td></tr>\n",
              "\t<tr><td>66e17977-193e-4f5b-8acb-f1148adf3bbe</td><td>35</td></tr>\n",
              "\t<tr><td>68be8d34-e8eb-4821-a8b8-4fb286174f40</td><td>33</td></tr>\n",
              "\t<tr><td>99defa74-7917-4f11-80c4-3d470d075b91</td><td>34</td></tr>\n",
              "\t<tr><td>9a4c7cda-fd8c-45ef-a7fe-ec7d7c70726b</td><td>17</td></tr>\n",
              "\t<tr><td>abad62dc-27a8-4b56-8363-ef00109c78f7</td><td>34</td></tr>\n",
              "\t<tr><td>b3d9afea-ab3c-4c0c-a753-6784d0b49fef</td><td>20</td></tr>\n",
              "\t<tr><td>dc7f4951-2a7d-484f-ae8c-cfe15d3f454c</td><td>32</td></tr>\n",
              "</tbody>\n",
              "</table>\n"
            ],
            "text/markdown": "\nA tibble: 12 × 2\n\n| articleId &lt;chr&gt; | totalSentences &lt;int&gt; |\n|---|---|\n| 00d3bad9-ba2d-4a28-98f8-cc44fef37ae9 | 19 |\n| 0f8697f6-4de6-4e45-93f7-5bc689bf6548 | 37 |\n| 0fb6287d-7e32-4867-adae-075531fb5003 | 45 |\n| 3a93fcc6-bcf7-49f0-b58f-51c8a0a28eec | 33 |\n| 4f1be26f-f7fa-4234-919f-175825001232 | 18 |\n| 66e17977-193e-4f5b-8acb-f1148adf3bbe | 35 |\n| 68be8d34-e8eb-4821-a8b8-4fb286174f40 | 33 |\n| 99defa74-7917-4f11-80c4-3d470d075b91 | 34 |\n| 9a4c7cda-fd8c-45ef-a7fe-ec7d7c70726b | 17 |\n| abad62dc-27a8-4b56-8363-ef00109c78f7 | 34 |\n| b3d9afea-ab3c-4c0c-a753-6784d0b49fef | 20 |\n| dc7f4951-2a7d-484f-ae8c-cfe15d3f454c | 32 |\n\n",
            "text/latex": "A tibble: 12 × 2\n\\begin{tabular}{ll}\n articleId & totalSentences\\\\\n <chr> & <int>\\\\\n\\hline\n\t 00d3bad9-ba2d-4a28-98f8-cc44fef37ae9 & 19\\\\\n\t 0f8697f6-4de6-4e45-93f7-5bc689bf6548 & 37\\\\\n\t 0fb6287d-7e32-4867-adae-075531fb5003 & 45\\\\\n\t 3a93fcc6-bcf7-49f0-b58f-51c8a0a28eec & 33\\\\\n\t 4f1be26f-f7fa-4234-919f-175825001232 & 18\\\\\n\t 66e17977-193e-4f5b-8acb-f1148adf3bbe & 35\\\\\n\t 68be8d34-e8eb-4821-a8b8-4fb286174f40 & 33\\\\\n\t 99defa74-7917-4f11-80c4-3d470d075b91 & 34\\\\\n\t 9a4c7cda-fd8c-45ef-a7fe-ec7d7c70726b & 17\\\\\n\t abad62dc-27a8-4b56-8363-ef00109c78f7 & 34\\\\\n\t b3d9afea-ab3c-4c0c-a753-6784d0b49fef & 20\\\\\n\t dc7f4951-2a7d-484f-ae8c-cfe15d3f454c & 32\\\\\n\\end{tabular}\n",
            "text/plain": [
              "   articleId                            totalSentences\n",
              "1  00d3bad9-ba2d-4a28-98f8-cc44fef37ae9 19            \n",
              "2  0f8697f6-4de6-4e45-93f7-5bc689bf6548 37            \n",
              "3  0fb6287d-7e32-4867-adae-075531fb5003 45            \n",
              "4  3a93fcc6-bcf7-49f0-b58f-51c8a0a28eec 33            \n",
              "5  4f1be26f-f7fa-4234-919f-175825001232 18            \n",
              "6  66e17977-193e-4f5b-8acb-f1148adf3bbe 35            \n",
              "7  68be8d34-e8eb-4821-a8b8-4fb286174f40 33            \n",
              "8  99defa74-7917-4f11-80c4-3d470d075b91 34            \n",
              "9  9a4c7cda-fd8c-45ef-a7fe-ec7d7c70726b 17            \n",
              "10 abad62dc-27a8-4b56-8363-ef00109c78f7 34            \n",
              "11 b3d9afea-ab3c-4c0c-a753-6784d0b49fef 20            \n",
              "12 dc7f4951-2a7d-484f-ae8c-cfe15d3f454c 32            "
            ]
          },
          "metadata": {}
        }
      ]
    },
    {
      "cell_type": "code",
      "source": [
        "df_combined <- Article %>%\n",
        "  merge(TotalSentences, by.x = \"id\", by.y = \"articleId\") %>%\n",
        "  merge(ArticleStats, by.x = \"id\", by.y = \"articleId\") %>%\n",
        "  select(Title = title, \"News outlet\" = sitename, Date = date, Topic = topic, \"# Sentences\" = totalSentences, \"Bias rating\" = bias, \"Political rating\" = slant, \"# Feedback\" = totalVotes, \"# Annotators\" = totalAnnotators, \"Feedback/Sentence\" = votesPerSentence, \"Classifier bias %\" = biasPercentage, \"Feedback bias %\" = meanVote) %>%\n",
        "  mutate_if(is.numeric, round, digits=4)\n",
        "\n",
        "df_combined\n",
        "\n",
        "df_combined %>%\n",
        "  write.csv(\"article_summary.csv\", row.names = FALSE)"
      ],
      "metadata": {
        "colab": {
          "base_uri": "https://localhost:8080/",
          "height": 1000
        },
        "id": "I_SYltXgNPyJ",
        "outputId": "e0be4638-a029-492f-970f-37065dd3d229"
      },
      "execution_count": null,
      "outputs": [
        {
          "output_type": "display_data",
          "data": {
            "text/html": [
              "<table class=\"dataframe\">\n",
              "<caption>A data.frame: 12 × 12</caption>\n",
              "<thead>\n",
              "\t<tr><th scope=col>Title</th><th scope=col>News outlet</th><th scope=col>Date</th><th scope=col>Topic</th><th scope=col># Sentences</th><th scope=col>Bias rating</th><th scope=col>Political rating</th><th scope=col># Feedback</th><th scope=col># Annotators</th><th scope=col>Feedback/Sentence</th><th scope=col>Classifier bias %</th><th scope=col>Feedback bias %</th></tr>\n",
              "\t<tr><th scope=col>&lt;chr&gt;</th><th scope=col>&lt;chr&gt;</th><th scope=col>&lt;dttm&gt;</th><th scope=col>&lt;chr&gt;</th><th scope=col>&lt;dbl&gt;</th><th scope=col>&lt;chr&gt;</th><th scope=col>&lt;chr&gt;</th><th scope=col>&lt;dbl&gt;</th><th scope=col>&lt;dbl&gt;</th><th scope=col>&lt;dbl&gt;</th><th scope=col>&lt;dbl&gt;</th><th scope=col>&lt;dbl&gt;</th></tr>\n",
              "</thead>\n",
              "<tbody>\n",
              "\t<tr><td>Biden raises eyebrows with racial comment at Black History Month event: 'But I'm not stupid'  </td><td>TheBlaze       </td><td>2023-02-28</td><td>blm                                  </td><td>19</td><td>high  </td><td>right </td><td>139</td><td>11</td><td>7.7222</td><td>0.2105</td><td>0.3657</td></tr>\n",
              "\t<tr><td>Former Reagan speechwriter rips Greg Abbott for his 'cruel' and 'heartless' immigration stunts</td><td>Alternet       </td><td>2022-12-27</td><td>immigration                          </td><td>37</td><td>high  </td><td>left  </td><td>188</td><td> 7</td><td>5.2222</td><td>0.4737</td><td>0.5415</td></tr>\n",
              "\t<tr><td>Climate Trauma Is Rewiring Our Brains Into Something Alarmingly Worse                         </td><td>The Daily Beast</td><td>2023-01-18</td><td>environment                          </td><td>45</td><td>medium</td><td>left  </td><td>243</td><td>12</td><td>5.6512</td><td>0.1333</td><td>0.1568</td></tr>\n",
              "\t<tr><td>Russian forces hammer Ukraine's Bakhmut in quest for breakthrough in war                      </td><td>Reuters        </td><td>2023-02-28</td><td>international-politics-and-world-news</td><td>33</td><td>low   </td><td>center</td><td>172</td><td> 9</td><td>5.5484</td><td>0.0303</td><td>0.1704</td></tr>\n",
              "\t<tr><td>FBI director endorses theory Covid-19 virus may have leaked from Chinese lab                  </td><td>The Guardian   </td><td>2023-03-01</td><td>coronavirus                          </td><td>18</td><td>medium</td><td>left  </td><td> 86</td><td> 6</td><td>5.0588</td><td>0.0000</td><td>0.0549</td></tr>\n",
              "\t<tr><td>Republicans Really Want You to Keep Paying Junk Fees                                          </td><td>The Daily Beast</td><td>2023-02-21</td><td>middle-class                         </td><td>35</td><td>high  </td><td>left  </td><td> 48</td><td> 6</td><td>5.3333</td><td>0.4571</td><td>0.6000</td></tr>\n",
              "\t<tr><td>Buffalo mass shooting gunman apologizes, sentenced to life without parole                     </td><td>Reuters        </td><td>2023-02-15</td><td>gun-control                          </td><td>33</td><td>low   </td><td>center</td><td>167</td><td> 8</td><td>5.3871</td><td>0.0606</td><td>0.0616</td></tr>\n",
              "\t<tr><td>Refusing to Forgive Institutional Racism Is Not Cancel Culture                                </td><td>The Daily Beast</td><td>2023-01-06</td><td>white-nationalism                    </td><td>34</td><td>high  </td><td>left  </td><td>170</td><td> 6</td><td>5.1515</td><td>0.6765</td><td>0.7525</td></tr>\n",
              "\t<tr><td>Irish Government Abandons Plan to Teach Children Gender is a ‘Spectrum’                       </td><td>Breitbart      </td><td>2023-02-28</td><td>gender                               </td><td>17</td><td>high  </td><td>right </td><td>110</td><td>13</td><td>6.8750</td><td>0.1765</td><td>0.2891</td></tr>\n",
              "\t<tr><td>Leftists: Adoption Is Worse Than Abortion, But Surrogacy Is Great                             </td><td>The Federalist </td><td>2023-02-03</td><td>abortion                             </td><td>34</td><td>high  </td><td>right </td><td>243</td><td>13</td><td>7.3636</td><td>0.4118</td><td>0.6480</td></tr>\n",
              "\t<tr><td>Dozens of schoolgirls in Iran taken to hospital after poisoning                               </td><td>The Guardian   </td><td>2023-02-28</td><td>islam                                </td><td>20</td><td>low   </td><td>      </td><td> 96</td><td> 6</td><td>5.0526</td><td>0.0500</td><td>0.0088</td></tr>\n",
              "\t<tr><td>Hawley slams Biden nominee for ‘stonewalling’ on past tweets: ‘This is unbelievable’          </td><td>Fox News       </td><td>2023-02-28</td><td>elections-2020                       </td><td>32</td><td>medium</td><td>right </td><td>186</td><td> 8</td><td>6.2000</td><td>0.1875</td><td>0.2538</td></tr>\n",
              "</tbody>\n",
              "</table>\n"
            ],
            "text/markdown": "\nA data.frame: 12 × 12\n\n| Title &lt;chr&gt; | News outlet &lt;chr&gt; | Date &lt;dttm&gt; | Topic &lt;chr&gt; | # Sentences &lt;dbl&gt; | Bias rating &lt;chr&gt; | Political rating &lt;chr&gt; | # Feedback &lt;dbl&gt; | # Annotators &lt;dbl&gt; | Feedback/Sentence &lt;dbl&gt; | Classifier bias % &lt;dbl&gt; | Feedback bias % &lt;dbl&gt; |\n|---|---|---|---|---|---|---|---|---|---|---|---|\n| Biden raises eyebrows with racial comment at Black History Month event: 'But I'm not stupid'   | TheBlaze        | 2023-02-28 | blm                                   | 19 | high   | right  | 139 | 11 | 7.7222 | 0.2105 | 0.3657 |\n| Former Reagan speechwriter rips Greg Abbott for his 'cruel' and 'heartless' immigration stunts | Alternet        | 2022-12-27 | immigration                           | 37 | high   | left   | 188 |  7 | 5.2222 | 0.4737 | 0.5415 |\n| Climate Trauma Is Rewiring Our Brains Into Something Alarmingly Worse                          | The Daily Beast | 2023-01-18 | environment                           | 45 | medium | left   | 243 | 12 | 5.6512 | 0.1333 | 0.1568 |\n| Russian forces hammer Ukraine's Bakhmut in quest for breakthrough in war                       | Reuters         | 2023-02-28 | international-politics-and-world-news | 33 | low    | center | 172 |  9 | 5.5484 | 0.0303 | 0.1704 |\n| FBI director endorses theory Covid-19 virus may have leaked from Chinese lab                   | The Guardian    | 2023-03-01 | coronavirus                           | 18 | medium | left   |  86 |  6 | 5.0588 | 0.0000 | 0.0549 |\n| Republicans Really Want You to Keep Paying Junk Fees                                           | The Daily Beast | 2023-02-21 | middle-class                          | 35 | high   | left   |  48 |  6 | 5.3333 | 0.4571 | 0.6000 |\n| Buffalo mass shooting gunman apologizes, sentenced to life without parole                      | Reuters         | 2023-02-15 | gun-control                           | 33 | low    | center | 167 |  8 | 5.3871 | 0.0606 | 0.0616 |\n| Refusing to Forgive Institutional Racism Is Not Cancel Culture                                 | The Daily Beast | 2023-01-06 | white-nationalism                     | 34 | high   | left   | 170 |  6 | 5.1515 | 0.6765 | 0.7525 |\n| Irish Government Abandons Plan to Teach Children Gender is a ‘Spectrum’                        | Breitbart       | 2023-02-28 | gender                                | 17 | high   | right  | 110 | 13 | 6.8750 | 0.1765 | 0.2891 |\n| Leftists: Adoption Is Worse Than Abortion, But Surrogacy Is Great                              | The Federalist  | 2023-02-03 | abortion                              | 34 | high   | right  | 243 | 13 | 7.3636 | 0.4118 | 0.6480 |\n| Dozens of schoolgirls in Iran taken to hospital after poisoning                                | The Guardian    | 2023-02-28 | islam                                 | 20 | low    | <!----> |  96 |  6 | 5.0526 | 0.0500 | 0.0088 |\n| Hawley slams Biden nominee for ‘stonewalling’ on past tweets: ‘This is unbelievable’           | Fox News        | 2023-02-28 | elections-2020                        | 32 | medium | right  | 186 |  8 | 6.2000 | 0.1875 | 0.2538 |\n\n",
            "text/latex": "A data.frame: 12 × 12\n\\begin{tabular}{llllllllllll}\n Title & News outlet & Date & Topic & \\# Sentences & Bias rating & Political rating & \\# Feedback & \\# Annotators & Feedback/Sentence & Classifier bias \\% & Feedback bias \\%\\\\\n <chr> & <chr> & <dttm> & <chr> & <dbl> & <chr> & <chr> & <dbl> & <dbl> & <dbl> & <dbl> & <dbl>\\\\\n\\hline\n\t Biden raises eyebrows with racial comment at Black History Month event: 'But I'm not stupid'   & TheBlaze        & 2023-02-28 & blm                                   & 19 & high   & right  & 139 & 11 & 7.7222 & 0.2105 & 0.3657\\\\\n\t Former Reagan speechwriter rips Greg Abbott for his 'cruel' and 'heartless' immigration stunts & Alternet        & 2022-12-27 & immigration                           & 37 & high   & left   & 188 &  7 & 5.2222 & 0.4737 & 0.5415\\\\\n\t Climate Trauma Is Rewiring Our Brains Into Something Alarmingly Worse                          & The Daily Beast & 2023-01-18 & environment                           & 45 & medium & left   & 243 & 12 & 5.6512 & 0.1333 & 0.1568\\\\\n\t Russian forces hammer Ukraine's Bakhmut in quest for breakthrough in war                       & Reuters         & 2023-02-28 & international-politics-and-world-news & 33 & low    & center & 172 &  9 & 5.5484 & 0.0303 & 0.1704\\\\\n\t FBI director endorses theory Covid-19 virus may have leaked from Chinese lab                   & The Guardian    & 2023-03-01 & coronavirus                           & 18 & medium & left   &  86 &  6 & 5.0588 & 0.0000 & 0.0549\\\\\n\t Republicans Really Want You to Keep Paying Junk Fees                                           & The Daily Beast & 2023-02-21 & middle-class                          & 35 & high   & left   &  48 &  6 & 5.3333 & 0.4571 & 0.6000\\\\\n\t Buffalo mass shooting gunman apologizes, sentenced to life without parole                      & Reuters         & 2023-02-15 & gun-control                           & 33 & low    & center & 167 &  8 & 5.3871 & 0.0606 & 0.0616\\\\\n\t Refusing to Forgive Institutional Racism Is Not Cancel Culture                                 & The Daily Beast & 2023-01-06 & white-nationalism                     & 34 & high   & left   & 170 &  6 & 5.1515 & 0.6765 & 0.7525\\\\\n\t Irish Government Abandons Plan to Teach Children Gender is a ‘Spectrum’                        & Breitbart       & 2023-02-28 & gender                                & 17 & high   & right  & 110 & 13 & 6.8750 & 0.1765 & 0.2891\\\\\n\t Leftists: Adoption Is Worse Than Abortion, But Surrogacy Is Great                              & The Federalist  & 2023-02-03 & abortion                              & 34 & high   & right  & 243 & 13 & 7.3636 & 0.4118 & 0.6480\\\\\n\t Dozens of schoolgirls in Iran taken to hospital after poisoning                                & The Guardian    & 2023-02-28 & islam                                 & 20 & low    &        &  96 &  6 & 5.0526 & 0.0500 & 0.0088\\\\\n\t Hawley slams Biden nominee for ‘stonewalling’ on past tweets: ‘This is unbelievable’           & Fox News        & 2023-02-28 & elections-2020                        & 32 & medium & right  & 186 &  8 & 6.2000 & 0.1875 & 0.2538\\\\\n\\end{tabular}\n",
            "text/plain": [
              "   Title                                                                                         \n",
              "1  Biden raises eyebrows with racial comment at Black History Month event: 'But I'm not stupid'  \n",
              "2  Former Reagan speechwriter rips Greg Abbott for his 'cruel' and 'heartless' immigration stunts\n",
              "3  Climate Trauma Is Rewiring Our Brains Into Something Alarmingly Worse                         \n",
              "4  Russian forces hammer Ukraine's Bakhmut in quest for breakthrough in war                      \n",
              "5  FBI director endorses theory Covid-19 virus may have leaked from Chinese lab                  \n",
              "6  Republicans Really Want You to Keep Paying Junk Fees                                          \n",
              "7  Buffalo mass shooting gunman apologizes, sentenced to life without parole                     \n",
              "8  Refusing to Forgive Institutional Racism Is Not Cancel Culture                                \n",
              "9  Irish Government Abandons Plan to Teach Children Gender is a ‘Spectrum’                       \n",
              "10 Leftists: Adoption Is Worse Than Abortion, But Surrogacy Is Great                             \n",
              "11 Dozens of schoolgirls in Iran taken to hospital after poisoning                               \n",
              "12 Hawley slams Biden nominee for ‘stonewalling’ on past tweets: ‘This is unbelievable’          \n",
              "   News outlet     Date       Topic                                 # Sentences\n",
              "1  TheBlaze        2023-02-28 blm                                   19         \n",
              "2  Alternet        2022-12-27 immigration                           37         \n",
              "3  The Daily Beast 2023-01-18 environment                           45         \n",
              "4  Reuters         2023-02-28 international-politics-and-world-news 33         \n",
              "5  The Guardian    2023-03-01 coronavirus                           18         \n",
              "6  The Daily Beast 2023-02-21 middle-class                          35         \n",
              "7  Reuters         2023-02-15 gun-control                           33         \n",
              "8  The Daily Beast 2023-01-06 white-nationalism                     34         \n",
              "9  Breitbart       2023-02-28 gender                                17         \n",
              "10 The Federalist  2023-02-03 abortion                              34         \n",
              "11 The Guardian    2023-02-28 islam                                 20         \n",
              "12 Fox News        2023-02-28 elections-2020                        32         \n",
              "   Bias rating Political rating # Feedback # Annotators Feedback/Sentence\n",
              "1  high        right            139        11           7.7222           \n",
              "2  high        left             188         7           5.2222           \n",
              "3  medium      left             243        12           5.6512           \n",
              "4  low         center           172         9           5.5484           \n",
              "5  medium      left              86         6           5.0588           \n",
              "6  high        left              48         6           5.3333           \n",
              "7  low         center           167         8           5.3871           \n",
              "8  high        left             170         6           5.1515           \n",
              "9  high        right            110        13           6.8750           \n",
              "10 high        right            243        13           7.3636           \n",
              "11 low                           96         6           5.0526           \n",
              "12 medium      right            186         8           6.2000           \n",
              "   Classifier bias % Feedback bias %\n",
              "1  0.2105            0.3657         \n",
              "2  0.4737            0.5415         \n",
              "3  0.1333            0.1568         \n",
              "4  0.0303            0.1704         \n",
              "5  0.0000            0.0549         \n",
              "6  0.4571            0.6000         \n",
              "7  0.0606            0.0616         \n",
              "8  0.6765            0.7525         \n",
              "9  0.1765            0.2891         \n",
              "10 0.4118            0.6480         \n",
              "11 0.0500            0.0088         \n",
              "12 0.1875            0.2538         "
            ]
          },
          "metadata": {}
        }
      ]
    },
    {
      "cell_type": "code",
      "source": [
        "ggplot(ResultDataset, aes(x = avgVote)) +\n",
        "  geom_histogram(fill = \"#0099f9\", bins=50) +\n",
        "  theme_light(base_size = 20) +\n",
        "  xlab(\"Average Vote\") +\n",
        "  ylab(\"Frequency\")\n",
        "ggsave('/content/avg-vote.pdf', width=7.2, height=6)"
      ],
      "metadata": {
        "id": "VC8GdGMvdAp9",
        "colab": {
          "base_uri": "https://localhost:8080/",
          "height": 437
        },
        "outputId": "4dab3369-aaf7-4fb5-fc7d-40397f2bbfb4"
      },
      "execution_count": null,
      "outputs": [
        {
          "output_type": "display_data",
          "data": {
            "text/plain": [
              "plot without title"
            ],
            "image/png": "[encoded data removed]"
          },
          "metadata": {
            "image/png": {
              "width": 420,
              "height": 420
            }
          }
        }
      ]
    },
    {
      "cell_type": "code",
      "source": [
        "# Confusion matrix between classifier (pred) and majority votes (true)\n",
        "table(ResultDataset$classifierBiased, ResultDataset$majorityVote)"
      ],
      "metadata": {
        "colab": {
          "base_uri": "https://localhost:8080/",
          "height": 86
        },
        "id": "Rpzx2GFGf4fl",
        "outputId": "a699df24-3dc0-47d9-c614-5fc04ae97222"
      },
      "execution_count": null,
      "outputs": [
        {
          "output_type": "display_data",
          "data": {
            "text/plain": [
              "   \n",
              "     -1   0   1\n",
              "  0   4 208  29\n",
              "  1   2  10  63"
            ]
          },
          "metadata": {}
        }
      ]
    },
    {
      "cell_type": "code",
      "source": [
        "FeedbackWithReasons <- Feedback %>% filter(reason != \"\")\n",
        "\n",
        "nrow(FeedbackWithReasons)\n",
        "unique(FeedbackWithReasons$contentId)\n",
        "FeedbackWithReasons\n",
        "\n",
        "summary(FeedbackWithReasons)"
      ],
      "metadata": {
        "colab": {
          "base_uri": "https://localhost:8080/",
          "height": 1000
        },
        "id": "wzk-SU2ym5p1",
        "outputId": "b2b9d116-0754-430c-b0f7-8bcc90aa567b"
      },
      "execution_count": null,
      "outputs": [
        {
          "output_type": "display_data",
          "data": {
            "text/html": [
              "25"
            ],
            "text/markdown": "25",
            "text/latex": "25",
            "text/plain": [
              "[1] 25"
            ]
          },
          "metadata": {}
        },
        {
          "output_type": "display_data",
          "data": {
            "text/html": [
              "<style>\n",
              ".list-inline {list-style: none; margin:0; padding: 0}\n",
              ".list-inline>li {display: inline-block}\n",
              ".list-inline>li:not(:last-child)::after {content: \"\\00b7\"; padding: 0 .5ex}\n",
              "</style>\n",
              "<ol class=list-inline><li>'3afd2b20-c82d-4561-ba57-b818c7965be7'</li><li>'f5dea5d9-ee54-48ee-b949-9b8b7593a207'</li><li>'7e539eaf-cd6e-4787-b0c4-b2fbbcf80626'</li><li>'68eb6d3a-8282-4f07-99d0-f50ccaf92268'</li><li>'cf824762-11f2-4088-aeed-9d3a69297fe4'</li><li>'8e88775d-6aaa-4005-968d-a03ab2c952af'</li><li>'bf9c53e8-02b5-4d96-9150-f5fb89803685'</li><li>'01639050-8d16-4c07-a743-1a04b86aeb46'</li><li>'4a2a4e70-1817-4b64-8cba-19818792d525'</li><li>'22c02ade-a9fe-4fc1-8eaf-61dde8a6214d'</li><li>'be0165c0-fd53-438a-8fda-bb04df7d12e2'</li><li>'ecc632fc-3d4c-4049-9330-ab2735558a10'</li><li>'8a358eea-28eb-4059-8a9c-90dcc1749668'</li><li>'c6cdd519-2b85-4357-9708-7c8da6f07f49'</li><li>'01293af8-8f73-4d1f-a0ea-2d430c7e82e6'</li><li>'5162b5ad-cdf3-41cc-9b67-fbd6acbaaddd'</li><li>'4ab24805-47bd-41a2-b2e3-48caf21f346b'</li><li>'3c994c90-9a76-42e9-a7fd-b180767d7e8b'</li><li>'1b861573-f6c4-49bb-9b06-023aa46c1bdb'</li><li>'e55c1cd9-06d9-4fdc-a0d1-3805299b732c'</li><li>'1d1da1e8-f689-4590-ae26-64c20c9934ac'</li><li>'6d557d41-f238-4dbe-ad58-93efb0b1aa27'</li></ol>\n"
            ],
            "text/markdown": "1. '3afd2b20-c82d-4561-ba57-b818c7965be7'\n2. 'f5dea5d9-ee54-48ee-b949-9b8b7593a207'\n3. '7e539eaf-cd6e-4787-b0c4-b2fbbcf80626'\n4. '68eb6d3a-8282-4f07-99d0-f50ccaf92268'\n5. 'cf824762-11f2-4088-aeed-9d3a69297fe4'\n6. '8e88775d-6aaa-4005-968d-a03ab2c952af'\n7. 'bf9c53e8-02b5-4d96-9150-f5fb89803685'\n8. '01639050-8d16-4c07-a743-1a04b86aeb46'\n9. '4a2a4e70-1817-4b64-8cba-19818792d525'\n10. '22c02ade-a9fe-4fc1-8eaf-61dde8a6214d'\n11. 'be0165c0-fd53-438a-8fda-bb04df7d12e2'\n12. 'ecc632fc-3d4c-4049-9330-ab2735558a10'\n13. '8a358eea-28eb-4059-8a9c-90dcc1749668'\n14. 'c6cdd519-2b85-4357-9708-7c8da6f07f49'\n15. '01293af8-8f73-4d1f-a0ea-2d430c7e82e6'\n16. '5162b5ad-cdf3-41cc-9b67-fbd6acbaaddd'\n17. '4ab24805-47bd-41a2-b2e3-48caf21f346b'\n18. '3c994c90-9a76-42e9-a7fd-b180767d7e8b'\n19. '1b861573-f6c4-49bb-9b06-023aa46c1bdb'\n20. 'e55c1cd9-06d9-4fdc-a0d1-3805299b732c'\n21. '1d1da1e8-f689-4590-ae26-64c20c9934ac'\n22. '6d557d41-f238-4dbe-ad58-93efb0b1aa27'\n\n\n",
            "text/latex": "\\begin{enumerate*}\n\\item '3afd2b20-c82d-4561-ba57-b818c7965be7'\n\\item 'f5dea5d9-ee54-48ee-b949-9b8b7593a207'\n\\item '7e539eaf-cd6e-4787-b0c4-b2fbbcf80626'\n\\item '68eb6d3a-8282-4f07-99d0-f50ccaf92268'\n\\item 'cf824762-11f2-4088-aeed-9d3a69297fe4'\n\\item '8e88775d-6aaa-4005-968d-a03ab2c952af'\n\\item 'bf9c53e8-02b5-4d96-9150-f5fb89803685'\n\\item '01639050-8d16-4c07-a743-1a04b86aeb46'\n\\item '4a2a4e70-1817-4b64-8cba-19818792d525'\n\\item '22c02ade-a9fe-4fc1-8eaf-61dde8a6214d'\n\\item 'be0165c0-fd53-438a-8fda-bb04df7d12e2'\n\\item 'ecc632fc-3d4c-4049-9330-ab2735558a10'\n\\item '8a358eea-28eb-4059-8a9c-90dcc1749668'\n\\item 'c6cdd519-2b85-4357-9708-7c8da6f07f49'\n\\item '01293af8-8f73-4d1f-a0ea-2d430c7e82e6'\n\\item '5162b5ad-cdf3-41cc-9b67-fbd6acbaaddd'\n\\item '4ab24805-47bd-41a2-b2e3-48caf21f346b'\n\\item '3c994c90-9a76-42e9-a7fd-b180767d7e8b'\n\\item '1b861573-f6c4-49bb-9b06-023aa46c1bdb'\n\\item 'e55c1cd9-06d9-4fdc-a0d1-3805299b732c'\n\\item '1d1da1e8-f689-4590-ae26-64c20c9934ac'\n\\item '6d557d41-f238-4dbe-ad58-93efb0b1aa27'\n\\end{enumerate*}\n",
            "text/plain": [
              " [1] \"3afd2b20-c82d-4561-ba57-b818c7965be7\"\n",
              " [2] \"f5dea5d9-ee54-48ee-b949-9b8b7593a207\"\n",
              " [3] \"7e539eaf-cd6e-4787-b0c4-b2fbbcf80626\"\n",
              " [4] \"68eb6d3a-8282-4f07-99d0-f50ccaf92268\"\n",
              " [5] \"cf824762-11f2-4088-aeed-9d3a69297fe4\"\n",
              " [6] \"8e88775d-6aaa-4005-968d-a03ab2c952af\"\n",
              " [7] \"bf9c53e8-02b5-4d96-9150-f5fb89803685\"\n",
              " [8] \"01639050-8d16-4c07-a743-1a04b86aeb46\"\n",
              " [9] \"4a2a4e70-1817-4b64-8cba-19818792d525\"\n",
              "[10] \"22c02ade-a9fe-4fc1-8eaf-61dde8a6214d\"\n",
              "[11] \"be0165c0-fd53-438a-8fda-bb04df7d12e2\"\n",
              "[12] \"ecc632fc-3d4c-4049-9330-ab2735558a10\"\n",
              "[13] \"8a358eea-28eb-4059-8a9c-90dcc1749668\"\n",
              "[14] \"c6cdd519-2b85-4357-9708-7c8da6f07f49\"\n",
              "[15] \"01293af8-8f73-4d1f-a0ea-2d430c7e82e6\"\n",
              "[16] \"5162b5ad-cdf3-41cc-9b67-fbd6acbaaddd\"\n",
              "[17] \"4ab24805-47bd-41a2-b2e3-48caf21f346b\"\n",
              "[18] \"3c994c90-9a76-42e9-a7fd-b180767d7e8b\"\n",
              "[19] \"1b861573-f6c4-49bb-9b06-023aa46c1bdb\"\n",
              "[20] \"e55c1cd9-06d9-4fdc-a0d1-3805299b732c\"\n",
              "[21] \"1d1da1e8-f689-4590-ae26-64c20c9934ac\"\n",
              "[22] \"6d557d41-f238-4dbe-ad58-93efb0b1aa27\""
            ]
          },
          "metadata": {}
        },
        {
          "output_type": "display_data",
          "data": {
            "text/html": [
              "<table class=\"dataframe\">\n",
              "<caption>A data.frame: 25 × 6</caption>\n",
              "<thead>\n",
              "\t<tr><th scope=col>id</th><th scope=col>participantId</th><th scope=col>contentId</th><th scope=col>biased</th><th scope=col>reason</th><th scope=col>createdAt</th></tr>\n",
              "\t<tr><th scope=col>&lt;chr&gt;</th><th scope=col>&lt;chr&gt;</th><th scope=col>&lt;chr&gt;</th><th scope=col>&lt;int&gt;</th><th scope=col>&lt;chr&gt;</th><th scope=col>&lt;int&gt;</th></tr>\n",
              "</thead>\n",
              "<tbody>\n",
              "\t<tr><td>4bef6a27-6e9a-4673-9dbd-932fb0efffdf</td><td>c4528338-a227-48a0-913d-e77d3171b290</td><td>3afd2b20-c82d-4561-ba57-b818c7965be7</td><td>1</td><td>\"grilled\"                                                                                           </td><td>1677928272</td></tr>\n",
              "\t<tr><td>c90e404e-dc95-4913-ba09-69ba8f61a759</td><td>285e4ebc-149f-49d6-bf37-954e22bc1e2e</td><td>f5dea5d9-ee54-48ee-b949-9b8b7593a207</td><td>1</td><td>Pointing out that she was adopted                                                                   </td><td>1677937648</td></tr>\n",
              "\t<tr><td>2f90be9e-94f0-4874-87c8-ca98274f6b26</td><td>285e4ebc-149f-49d6-bf37-954e22bc1e2e</td><td>7e539eaf-cd6e-4787-b0c4-b2fbbcf80626</td><td>1</td><td>Living human being                                                                                  </td><td>1677937694</td></tr>\n",
              "\t<tr><td>1f75540a-b487-4af3-9624-36cec149951c</td><td>285e4ebc-149f-49d6-bf37-954e22bc1e2e</td><td>68eb6d3a-8282-4f07-99d0-f50ccaf92268</td><td>1</td><td>Source?                                                                                             </td><td>1677937706</td></tr>\n",
              "\t<tr><td>38266477-fb0e-4e49-bafd-ea7e047b1127</td><td>285e4ebc-149f-49d6-bf37-954e22bc1e2e</td><td>cf824762-11f2-4088-aeed-9d3a69297fe4</td><td>1</td><td>Source?                                                                                             </td><td>1677937713</td></tr>\n",
              "\t<tr><td>cb65f1f9-39ee-41ab-ae82-003786db044f</td><td>c1a9569c-4107-4182-8126-bb67b6fbb1e7</td><td>8e88775d-6aaa-4005-968d-a03ab2c952af</td><td>1</td><td>The quotation marks placed in the sentence could suggest the author does not believe in gender ident</td><td>1678128183</td></tr>\n",
              "\t<tr><td>4b948c30-1d88-4786-84d5-7dcf232cc033</td><td>c1a9569c-4107-4182-8126-bb67b6fbb1e7</td><td>bf9c53e8-02b5-4d96-9150-f5fb89803685</td><td>1</td><td>The speaker quoted is clearly biased                                                                </td><td>1678128495</td></tr>\n",
              "\t<tr><td>3f795e98-a0ae-4b84-a3f5-aa0e75e397f3</td><td>71def624-3486-466a-b2f2-2af595ee19d9</td><td>01639050-8d16-4c07-a743-1a04b86aeb46</td><td>0</td><td>Unbiased, since there is no positive or negative connotation.                                       </td><td>1678135980</td></tr>\n",
              "\t<tr><td>9868eee4-1462-4fed-929c-d1cf6b16e3e1</td><td>71def624-3486-466a-b2f2-2af595ee19d9</td><td>4a2a4e70-1817-4b64-8cba-19818792d525</td><td>1</td><td>Yes because of the use of \"Ideology\"                                                                </td><td>1678136134</td></tr>\n",
              "\t<tr><td>6927a46c-8eb4-4ae5-a8f4-392fc30723e4</td><td>71def624-3486-466a-b2f2-2af595ee19d9</td><td>8e88775d-6aaa-4005-968d-a03ab2c952af</td><td>1</td><td>Disagree because of \"\"so called\"\"                                                                   </td><td>1678136217</td></tr>\n",
              "\t<tr><td>4c0ee059-86d2-4fc1-9345-87babcbf3d4a</td><td>e2a67c4e-7515-475c-ae45-2dee46fe878c</td><td>01639050-8d16-4c07-a743-1a04b86aeb46</td><td>0</td><td>Generally it's not biased eventho I do feel like abandoning can be read more negatively than neutral</td><td>1678136735</td></tr>\n",
              "\t<tr><td>0ae867fb-23ab-4974-b554-1e6780c59c59</td><td>71def624-3486-466a-b2f2-2af595ee19d9</td><td>22c02ade-a9fe-4fc1-8eaf-61dde8a6214d</td><td>0</td><td>It's a fact that he was accused. Doesn't convey bias for me.                                        </td><td>1678136806</td></tr>\n",
              "\t<tr><td>8e83d27b-5457-4d70-a437-046adeaf2809</td><td>e0d2becd-90db-438f-8f59-13432bb220b5</td><td>be0165c0-fd53-438a-8fda-bb04df7d12e2</td><td>1</td><td>very biased                                                                                         </td><td>1678425690</td></tr>\n",
              "\t<tr><td>e91aeea5-f781-42ae-91e2-b44f30b17736</td><td>e0d2becd-90db-438f-8f59-13432bb220b5</td><td>ecc632fc-3d4c-4049-9330-ab2735558a10</td><td>1</td><td>this is biased. People should evaluate by themself if its clear or not.                             </td><td>1678425768</td></tr>\n",
              "\t<tr><td>a95a9ebd-414c-4310-ac01-6e9ff3fe02bc</td><td>e0d2becd-90db-438f-8f59-13432bb220b5</td><td>8a358eea-28eb-4059-8a9c-90dcc1749668</td><td>1</td><td>\"we must assume\"                                                                                    </td><td>1678426289</td></tr>\n",
              "\t<tr><td>ab8c406d-60f4-4b21-b98b-7c7dd3c7e7a5</td><td>e0d2becd-90db-438f-8f59-13432bb220b5</td><td>c6cdd519-2b85-4357-9708-7c8da6f07f49</td><td>1</td><td>assuming                                                                                            </td><td>1678426670</td></tr>\n",
              "\t<tr><td>0d22beb8-080d-4c89-9604-9a7656c98811</td><td>e0d2becd-90db-438f-8f59-13432bb220b5</td><td>01293af8-8f73-4d1f-a0ea-2d430c7e82e6</td><td>0</td><td>not biased                                                                                          </td><td>1678426752</td></tr>\n",
              "\t<tr><td>5c751ce2-5f53-4b2f-baef-f1c0ffbbcc85</td><td>e0d2becd-90db-438f-8f59-13432bb220b5</td><td>5162b5ad-cdf3-41cc-9b67-fbd6acbaaddd</td><td>1</td><td>greatly                                                                                             </td><td>1678427136</td></tr>\n",
              "\t<tr><td>5d9b2a7c-0f54-4333-9db5-35e3e2571366</td><td>e0d2becd-90db-438f-8f59-13432bb220b5</td><td>4ab24805-47bd-41a2-b2e3-48caf21f346b</td><td>1</td><td>been forced                                                                                         </td><td>1678427190</td></tr>\n",
              "\t<tr><td>da891294-80fe-42be-9240-923f66573403</td><td>e0d2becd-90db-438f-8f59-13432bb220b5</td><td>3c994c90-9a76-42e9-a7fd-b180767d7e8b</td><td>1</td><td>its hard to imagine                                                                                 </td><td>1678427259</td></tr>\n",
              "\t<tr><td>8043602c-6c32-4bfc-8dd0-41da6ea25cde</td><td>e0d2becd-90db-438f-8f59-13432bb220b5</td><td>1b861573-f6c4-49bb-9b06-023aa46c1bdb</td><td>1</td><td>its true but its assuming \"you are probably not happy\"                                              </td><td>1678427291</td></tr>\n",
              "\t<tr><td>1ea7e79a-acbb-4fc2-9da2-a8eee671d8c3</td><td>e0d2becd-90db-438f-8f59-13432bb220b5</td><td>e55c1cd9-06d9-4fdc-a0d1-3805299b732c</td><td>1</td><td>\"if not more so\" - assumption                                                                       </td><td>1678427613</td></tr>\n",
              "\t<tr><td>2d942a03-db5f-4a2f-a575-500ebda9d871</td><td>adb09b46-3ea9-4698-aa80-081d0e5b1a45</td><td>1d1da1e8-f689-4590-ae26-64c20c9934ac</td><td>1</td><td>I only partly agree. First half: biased, second half: appears to state events (no opinion)          </td><td>1678560009</td></tr>\n",
              "\t<tr><td>c3e76e1f-c572-47b2-ac5c-f5ce08291cdd</td><td>adb09b46-3ea9-4698-aa80-081d0e5b1a45</td><td>8a358eea-28eb-4059-8a9c-90dcc1749668</td><td>1</td><td>Biased, as it’s a judging opinion                                                                   </td><td>1678568309</td></tr>\n",
              "\t<tr><td>08a748ae-d215-451a-b6ee-71d3538b34e7</td><td>737e9796-362d-400d-91ef-a96764155149</td><td>6d557d41-f238-4dbe-ad58-93efb0b1aa27</td><td>1</td><td>I do not understand why the ai annotated citations, this is not what the author is saying           </td><td>1678616346</td></tr>\n",
              "</tbody>\n",
              "</table>\n"
            ],
            "text/markdown": "\nA data.frame: 25 × 6\n\n| id &lt;chr&gt; | participantId &lt;chr&gt; | contentId &lt;chr&gt; | biased &lt;int&gt; | reason &lt;chr&gt; | createdAt &lt;int&gt; |\n|---|---|---|---|---|---|\n| 4bef6a27-6e9a-4673-9dbd-932fb0efffdf | c4528338-a227-48a0-913d-e77d3171b290 | 3afd2b20-c82d-4561-ba57-b818c7965be7 | 1 | \"grilled\"                                                                                            | 1677928272 |\n| c90e404e-dc95-4913-ba09-69ba8f61a759 | 285e4ebc-149f-49d6-bf37-954e22bc1e2e | f5dea5d9-ee54-48ee-b949-9b8b7593a207 | 1 | Pointing out that she was adopted                                                                    | 1677937648 |\n| 2f90be9e-94f0-4874-87c8-ca98274f6b26 | 285e4ebc-149f-49d6-bf37-954e22bc1e2e | 7e539eaf-cd6e-4787-b0c4-b2fbbcf80626 | 1 | Living human being                                                                                   | 1677937694 |\n| 1f75540a-b487-4af3-9624-36cec149951c | 285e4ebc-149f-49d6-bf37-954e22bc1e2e | 68eb6d3a-8282-4f07-99d0-f50ccaf92268 | 1 | Source?                                                                                              | 1677937706 |\n| 38266477-fb0e-4e49-bafd-ea7e047b1127 | 285e4ebc-149f-49d6-bf37-954e22bc1e2e | cf824762-11f2-4088-aeed-9d3a69297fe4 | 1 | Source?                                                                                              | 1677937713 |\n| cb65f1f9-39ee-41ab-ae82-003786db044f | c1a9569c-4107-4182-8126-bb67b6fbb1e7 | 8e88775d-6aaa-4005-968d-a03ab2c952af | 1 | The quotation marks placed in the sentence could suggest the author does not believe in gender ident | 1678128183 |\n| 4b948c30-1d88-4786-84d5-7dcf232cc033 | c1a9569c-4107-4182-8126-bb67b6fbb1e7 | bf9c53e8-02b5-4d96-9150-f5fb89803685 | 1 | The speaker quoted is clearly biased                                                                 | 1678128495 |\n| 3f795e98-a0ae-4b84-a3f5-aa0e75e397f3 | 71def624-3486-466a-b2f2-2af595ee19d9 | 01639050-8d16-4c07-a743-1a04b86aeb46 | 0 | Unbiased, since there is no positive or negative connotation.                                        | 1678135980 |\n| 9868eee4-1462-4fed-929c-d1cf6b16e3e1 | 71def624-3486-466a-b2f2-2af595ee19d9 | 4a2a4e70-1817-4b64-8cba-19818792d525 | 1 | Yes because of the use of \"Ideology\"                                                                 | 1678136134 |\n| 6927a46c-8eb4-4ae5-a8f4-392fc30723e4 | 71def624-3486-466a-b2f2-2af595ee19d9 | 8e88775d-6aaa-4005-968d-a03ab2c952af | 1 | Disagree because of \"\"so called\"\"                                                                    | 1678136217 |\n| 4c0ee059-86d2-4fc1-9345-87babcbf3d4a | e2a67c4e-7515-475c-ae45-2dee46fe878c | 01639050-8d16-4c07-a743-1a04b86aeb46 | 0 | Generally it's not biased eventho I do feel like abandoning can be read more negatively than neutral | 1678136735 |\n| 0ae867fb-23ab-4974-b554-1e6780c59c59 | 71def624-3486-466a-b2f2-2af595ee19d9 | 22c02ade-a9fe-4fc1-8eaf-61dde8a6214d | 0 | It's a fact that he was accused. Doesn't convey bias for me.                                         | 1678136806 |\n| 8e83d27b-5457-4d70-a437-046adeaf2809 | e0d2becd-90db-438f-8f59-13432bb220b5 | be0165c0-fd53-438a-8fda-bb04df7d12e2 | 1 | very biased                                                                                          | 1678425690 |\n| e91aeea5-f781-42ae-91e2-b44f30b17736 | e0d2becd-90db-438f-8f59-13432bb220b5 | ecc632fc-3d4c-4049-9330-ab2735558a10 | 1 | this is biased. People should evaluate by themself if its clear or not.                              | 1678425768 |\n| a95a9ebd-414c-4310-ac01-6e9ff3fe02bc | e0d2becd-90db-438f-8f59-13432bb220b5 | 8a358eea-28eb-4059-8a9c-90dcc1749668 | 1 | \"we must assume\"                                                                                     | 1678426289 |\n| ab8c406d-60f4-4b21-b98b-7c7dd3c7e7a5 | e0d2becd-90db-438f-8f59-13432bb220b5 | c6cdd519-2b85-4357-9708-7c8da6f07f49 | 1 | assuming                                                                                             | 1678426670 |\n| 0d22beb8-080d-4c89-9604-9a7656c98811 | e0d2becd-90db-438f-8f59-13432bb220b5 | 01293af8-8f73-4d1f-a0ea-2d430c7e82e6 | 0 | not biased                                                                                           | 1678426752 |\n| 5c751ce2-5f53-4b2f-baef-f1c0ffbbcc85 | e0d2becd-90db-438f-8f59-13432bb220b5 | 5162b5ad-cdf3-41cc-9b67-fbd6acbaaddd | 1 | greatly                                                                                              | 1678427136 |\n| 5d9b2a7c-0f54-4333-9db5-35e3e2571366 | e0d2becd-90db-438f-8f59-13432bb220b5 | 4ab24805-47bd-41a2-b2e3-48caf21f346b | 1 | been forced                                                                                          | 1678427190 |\n| da891294-80fe-42be-9240-923f66573403 | e0d2becd-90db-438f-8f59-13432bb220b5 | 3c994c90-9a76-42e9-a7fd-b180767d7e8b | 1 | its hard to imagine                                                                                  | 1678427259 |\n| 8043602c-6c32-4bfc-8dd0-41da6ea25cde | e0d2becd-90db-438f-8f59-13432bb220b5 | 1b861573-f6c4-49bb-9b06-023aa46c1bdb | 1 | its true but its assuming \"you are probably not happy\"                                               | 1678427291 |\n| 1ea7e79a-acbb-4fc2-9da2-a8eee671d8c3 | e0d2becd-90db-438f-8f59-13432bb220b5 | e55c1cd9-06d9-4fdc-a0d1-3805299b732c | 1 | \"if not more so\" - assumption                                                                        | 1678427613 |\n| 2d942a03-db5f-4a2f-a575-500ebda9d871 | adb09b46-3ea9-4698-aa80-081d0e5b1a45 | 1d1da1e8-f689-4590-ae26-64c20c9934ac | 1 | I only partly agree. First half: biased, second half: appears to state events (no opinion)           | 1678560009 |\n| c3e76e1f-c572-47b2-ac5c-f5ce08291cdd | adb09b46-3ea9-4698-aa80-081d0e5b1a45 | 8a358eea-28eb-4059-8a9c-90dcc1749668 | 1 | Biased, as it’s a judging opinion                                                                    | 1678568309 |\n| 08a748ae-d215-451a-b6ee-71d3538b34e7 | 737e9796-362d-400d-91ef-a96764155149 | 6d557d41-f238-4dbe-ad58-93efb0b1aa27 | 1 | I do not understand why the ai annotated citations, this is not what the author is saying            | 1678616346 |\n\n",
            "text/latex": "A data.frame: 25 × 6\n\\begin{tabular}{llllll}\n id & participantId & contentId & biased & reason & createdAt\\\\\n <chr> & <chr> & <chr> & <int> & <chr> & <int>\\\\\n\\hline\n\t 4bef6a27-6e9a-4673-9dbd-932fb0efffdf & c4528338-a227-48a0-913d-e77d3171b290 & 3afd2b20-c82d-4561-ba57-b818c7965be7 & 1 & \"grilled\"                                                                                            & 1677928272\\\\\n\t c90e404e-dc95-4913-ba09-69ba8f61a759 & 285e4ebc-149f-49d6-bf37-954e22bc1e2e & f5dea5d9-ee54-48ee-b949-9b8b7593a207 & 1 & Pointing out that she was adopted                                                                    & 1677937648\\\\\n\t 2f90be9e-94f0-4874-87c8-ca98274f6b26 & 285e4ebc-149f-49d6-bf37-954e22bc1e2e & 7e539eaf-cd6e-4787-b0c4-b2fbbcf80626 & 1 & Living human being                                                                                   & 1677937694\\\\\n\t 1f75540a-b487-4af3-9624-36cec149951c & 285e4ebc-149f-49d6-bf37-954e22bc1e2e & 68eb6d3a-8282-4f07-99d0-f50ccaf92268 & 1 & Source?                                                                                              & 1677937706\\\\\n\t 38266477-fb0e-4e49-bafd-ea7e047b1127 & 285e4ebc-149f-49d6-bf37-954e22bc1e2e & cf824762-11f2-4088-aeed-9d3a69297fe4 & 1 & Source?                                                                                              & 1677937713\\\\\n\t cb65f1f9-39ee-41ab-ae82-003786db044f & c1a9569c-4107-4182-8126-bb67b6fbb1e7 & 8e88775d-6aaa-4005-968d-a03ab2c952af & 1 & The quotation marks placed in the sentence could suggest the author does not believe in gender ident & 1678128183\\\\\n\t 4b948c30-1d88-4786-84d5-7dcf232cc033 & c1a9569c-4107-4182-8126-bb67b6fbb1e7 & bf9c53e8-02b5-4d96-9150-f5fb89803685 & 1 & The speaker quoted is clearly biased                                                                 & 1678128495\\\\\n\t 3f795e98-a0ae-4b84-a3f5-aa0e75e397f3 & 71def624-3486-466a-b2f2-2af595ee19d9 & 01639050-8d16-4c07-a743-1a04b86aeb46 & 0 & Unbiased, since there is no positive or negative connotation.                                        & 1678135980\\\\\n\t 9868eee4-1462-4fed-929c-d1cf6b16e3e1 & 71def624-3486-466a-b2f2-2af595ee19d9 & 4a2a4e70-1817-4b64-8cba-19818792d525 & 1 & Yes because of the use of \"Ideology\"                                                                 & 1678136134\\\\\n\t 6927a46c-8eb4-4ae5-a8f4-392fc30723e4 & 71def624-3486-466a-b2f2-2af595ee19d9 & 8e88775d-6aaa-4005-968d-a03ab2c952af & 1 & Disagree because of \"\"so called\"\"                                                                    & 1678136217\\\\\n\t 4c0ee059-86d2-4fc1-9345-87babcbf3d4a & e2a67c4e-7515-475c-ae45-2dee46fe878c & 01639050-8d16-4c07-a743-1a04b86aeb46 & 0 & Generally it's not biased eventho I do feel like abandoning can be read more negatively than neutral & 1678136735\\\\\n\t 0ae867fb-23ab-4974-b554-1e6780c59c59 & 71def624-3486-466a-b2f2-2af595ee19d9 & 22c02ade-a9fe-4fc1-8eaf-61dde8a6214d & 0 & It's a fact that he was accused. Doesn't convey bias for me.                                         & 1678136806\\\\\n\t 8e83d27b-5457-4d70-a437-046adeaf2809 & e0d2becd-90db-438f-8f59-13432bb220b5 & be0165c0-fd53-438a-8fda-bb04df7d12e2 & 1 & very biased                                                                                          & 1678425690\\\\\n\t e91aeea5-f781-42ae-91e2-b44f30b17736 & e0d2becd-90db-438f-8f59-13432bb220b5 & ecc632fc-3d4c-4049-9330-ab2735558a10 & 1 & this is biased. People should evaluate by themself if its clear or not.                              & 1678425768\\\\\n\t a95a9ebd-414c-4310-ac01-6e9ff3fe02bc & e0d2becd-90db-438f-8f59-13432bb220b5 & 8a358eea-28eb-4059-8a9c-90dcc1749668 & 1 & \"we must assume\"                                                                                     & 1678426289\\\\\n\t ab8c406d-60f4-4b21-b98b-7c7dd3c7e7a5 & e0d2becd-90db-438f-8f59-13432bb220b5 & c6cdd519-2b85-4357-9708-7c8da6f07f49 & 1 & assuming                                                                                             & 1678426670\\\\\n\t 0d22beb8-080d-4c89-9604-9a7656c98811 & e0d2becd-90db-438f-8f59-13432bb220b5 & 01293af8-8f73-4d1f-a0ea-2d430c7e82e6 & 0 & not biased                                                                                           & 1678426752\\\\\n\t 5c751ce2-5f53-4b2f-baef-f1c0ffbbcc85 & e0d2becd-90db-438f-8f59-13432bb220b5 & 5162b5ad-cdf3-41cc-9b67-fbd6acbaaddd & 1 & greatly                                                                                              & 1678427136\\\\\n\t 5d9b2a7c-0f54-4333-9db5-35e3e2571366 & e0d2becd-90db-438f-8f59-13432bb220b5 & 4ab24805-47bd-41a2-b2e3-48caf21f346b & 1 & been forced                                                                                          & 1678427190\\\\\n\t da891294-80fe-42be-9240-923f66573403 & e0d2becd-90db-438f-8f59-13432bb220b5 & 3c994c90-9a76-42e9-a7fd-b180767d7e8b & 1 & its hard to imagine                                                                                  & 1678427259\\\\\n\t 8043602c-6c32-4bfc-8dd0-41da6ea25cde & e0d2becd-90db-438f-8f59-13432bb220b5 & 1b861573-f6c4-49bb-9b06-023aa46c1bdb & 1 & its true but its assuming \"you are probably not happy\"                                               & 1678427291\\\\\n\t 1ea7e79a-acbb-4fc2-9da2-a8eee671d8c3 & e0d2becd-90db-438f-8f59-13432bb220b5 & e55c1cd9-06d9-4fdc-a0d1-3805299b732c & 1 & \"if not more so\" - assumption                                                                        & 1678427613\\\\\n\t 2d942a03-db5f-4a2f-a575-500ebda9d871 & adb09b46-3ea9-4698-aa80-081d0e5b1a45 & 1d1da1e8-f689-4590-ae26-64c20c9934ac & 1 & I only partly agree. First half: biased, second half: appears to state events (no opinion)           & 1678560009\\\\\n\t c3e76e1f-c572-47b2-ac5c-f5ce08291cdd & adb09b46-3ea9-4698-aa80-081d0e5b1a45 & 8a358eea-28eb-4059-8a9c-90dcc1749668 & 1 & Biased, as it’s a judging opinion                                                                    & 1678568309\\\\\n\t 08a748ae-d215-451a-b6ee-71d3538b34e7 & 737e9796-362d-400d-91ef-a96764155149 & 6d557d41-f238-4dbe-ad58-93efb0b1aa27 & 1 & I do not understand why the ai annotated citations, this is not what the author is saying            & 1678616346\\\\\n\\end{tabular}\n",
            "text/plain": [
              "   id                                   participantId                       \n",
              "1  4bef6a27-6e9a-4673-9dbd-932fb0efffdf c4528338-a227-48a0-913d-e77d3171b290\n",
              "2  c90e404e-dc95-4913-ba09-69ba8f61a759 285e4ebc-149f-49d6-bf37-954e22bc1e2e\n",
              "3  2f90be9e-94f0-4874-87c8-ca98274f6b26 285e4ebc-149f-49d6-bf37-954e22bc1e2e\n",
              "4  1f75540a-b487-4af3-9624-36cec149951c 285e4ebc-149f-49d6-bf37-954e22bc1e2e\n",
              "5  38266477-fb0e-4e49-bafd-ea7e047b1127 285e4ebc-149f-49d6-bf37-954e22bc1e2e\n",
              "6  cb65f1f9-39ee-41ab-ae82-003786db044f c1a9569c-4107-4182-8126-bb67b6fbb1e7\n",
              "7  4b948c30-1d88-4786-84d5-7dcf232cc033 c1a9569c-4107-4182-8126-bb67b6fbb1e7\n",
              "8  3f795e98-a0ae-4b84-a3f5-aa0e75e397f3 71def624-3486-466a-b2f2-2af595ee19d9\n",
              "9  9868eee4-1462-4fed-929c-d1cf6b16e3e1 71def624-3486-466a-b2f2-2af595ee19d9\n",
              "10 6927a46c-8eb4-4ae5-a8f4-392fc30723e4 71def624-3486-466a-b2f2-2af595ee19d9\n",
              "11 4c0ee059-86d2-4fc1-9345-87babcbf3d4a e2a67c4e-7515-475c-ae45-2dee46fe878c\n",
              "12 0ae867fb-23ab-4974-b554-1e6780c59c59 71def624-3486-466a-b2f2-2af595ee19d9\n",
              "13 8e83d27b-5457-4d70-a437-046adeaf2809 e0d2becd-90db-438f-8f59-13432bb220b5\n",
              "14 e91aeea5-f781-42ae-91e2-b44f30b17736 e0d2becd-90db-438f-8f59-13432bb220b5\n",
              "15 a95a9ebd-414c-4310-ac01-6e9ff3fe02bc e0d2becd-90db-438f-8f59-13432bb220b5\n",
              "16 ab8c406d-60f4-4b21-b98b-7c7dd3c7e7a5 e0d2becd-90db-438f-8f59-13432bb220b5\n",
              "17 0d22beb8-080d-4c89-9604-9a7656c98811 e0d2becd-90db-438f-8f59-13432bb220b5\n",
              "18 5c751ce2-5f53-4b2f-baef-f1c0ffbbcc85 e0d2becd-90db-438f-8f59-13432bb220b5\n",
              "19 5d9b2a7c-0f54-4333-9db5-35e3e2571366 e0d2becd-90db-438f-8f59-13432bb220b5\n",
              "20 da891294-80fe-42be-9240-923f66573403 e0d2becd-90db-438f-8f59-13432bb220b5\n",
              "21 8043602c-6c32-4bfc-8dd0-41da6ea25cde e0d2becd-90db-438f-8f59-13432bb220b5\n",
              "22 1ea7e79a-acbb-4fc2-9da2-a8eee671d8c3 e0d2becd-90db-438f-8f59-13432bb220b5\n",
              "23 2d942a03-db5f-4a2f-a575-500ebda9d871 adb09b46-3ea9-4698-aa80-081d0e5b1a45\n",
              "24 c3e76e1f-c572-47b2-ac5c-f5ce08291cdd adb09b46-3ea9-4698-aa80-081d0e5b1a45\n",
              "25 08a748ae-d215-451a-b6ee-71d3538b34e7 737e9796-362d-400d-91ef-a96764155149\n",
              "   contentId                            biased\n",
              "1  3afd2b20-c82d-4561-ba57-b818c7965be7 1     \n",
              "2  f5dea5d9-ee54-48ee-b949-9b8b7593a207 1     \n",
              "3  7e539eaf-cd6e-4787-b0c4-b2fbbcf80626 1     \n",
              "4  68eb6d3a-8282-4f07-99d0-f50ccaf92268 1     \n",
              "5  cf824762-11f2-4088-aeed-9d3a69297fe4 1     \n",
              "6  8e88775d-6aaa-4005-968d-a03ab2c952af 1     \n",
              "7  bf9c53e8-02b5-4d96-9150-f5fb89803685 1     \n",
              "8  01639050-8d16-4c07-a743-1a04b86aeb46 0     \n",
              "9  4a2a4e70-1817-4b64-8cba-19818792d525 1     \n",
              "10 8e88775d-6aaa-4005-968d-a03ab2c952af 1     \n",
              "11 01639050-8d16-4c07-a743-1a04b86aeb46 0     \n",
              "12 22c02ade-a9fe-4fc1-8eaf-61dde8a6214d 0     \n",
              "13 be0165c0-fd53-438a-8fda-bb04df7d12e2 1     \n",
              "14 ecc632fc-3d4c-4049-9330-ab2735558a10 1     \n",
              "15 8a358eea-28eb-4059-8a9c-90dcc1749668 1     \n",
              "16 c6cdd519-2b85-4357-9708-7c8da6f07f49 1     \n",
              "17 01293af8-8f73-4d1f-a0ea-2d430c7e82e6 0     \n",
              "18 5162b5ad-cdf3-41cc-9b67-fbd6acbaaddd 1     \n",
              "19 4ab24805-47bd-41a2-b2e3-48caf21f346b 1     \n",
              "20 3c994c90-9a76-42e9-a7fd-b180767d7e8b 1     \n",
              "21 1b861573-f6c4-49bb-9b06-023aa46c1bdb 1     \n",
              "22 e55c1cd9-06d9-4fdc-a0d1-3805299b732c 1     \n",
              "23 1d1da1e8-f689-4590-ae26-64c20c9934ac 1     \n",
              "24 8a358eea-28eb-4059-8a9c-90dcc1749668 1     \n",
              "25 6d557d41-f238-4dbe-ad58-93efb0b1aa27 1     \n",
              "   reason                                                                                              \n",
              "1  \"grilled\"                                                                                           \n",
              "2  Pointing out that she was adopted                                                                   \n",
              "3  Living human being                                                                                  \n",
              "4  Source?                                                                                             \n",
              "5  Source?                                                                                             \n",
              "6  The quotation marks placed in the sentence could suggest the author does not believe in gender ident\n",
              "7  The speaker quoted is clearly biased                                                                \n",
              "8  Unbiased, since there is no positive or negative connotation.                                       \n",
              "9  Yes because of the use of \"Ideology\"                                                                \n",
              "10 Disagree because of \"\"so called\"\"                                                                   \n",
              "11 Generally it's not biased eventho I do feel like abandoning can be read more negatively than neutral\n",
              "12 It's a fact that he was accused. Doesn't convey bias for me.                                        \n",
              "13 very biased                                                                                         \n",
              "14 this is biased. People should evaluate by themself if its clear or not.                             \n",
              "15 \"we must assume\"                                                                                    \n",
              "16 assuming                                                                                            \n",
              "17 not biased                                                                                          \n",
              "18 greatly                                                                                             \n",
              "19 been forced                                                                                         \n",
              "20 its hard to imagine                                                                                 \n",
              "21 its true but its assuming \"you are probably not happy\"                                              \n",
              "22 \"if not more so\" - assumption                                                                       \n",
              "23 I only partly agree. First half: biased, second half: appears to state events (no opinion)          \n",
              "24 Biased, as it’s a judging opinion                                                                   \n",
              "25 I do not understand why the ai annotated citations, this is not what the author is saying           \n",
              "   createdAt \n",
              "1  1677928272\n",
              "2  1677937648\n",
              "3  1677937694\n",
              "4  1677937706\n",
              "5  1677937713\n",
              "6  1678128183\n",
              "7  1678128495\n",
              "8  1678135980\n",
              "9  1678136134\n",
              "10 1678136217\n",
              "11 1678136735\n",
              "12 1678136806\n",
              "13 1678425690\n",
              "14 1678425768\n",
              "15 1678426289\n",
              "16 1678426670\n",
              "17 1678426752\n",
              "18 1678427136\n",
              "19 1678427190\n",
              "20 1678427259\n",
              "21 1678427291\n",
              "22 1678427613\n",
              "23 1678560009\n",
              "24 1678568309\n",
              "25 1678616346"
            ]
          },
          "metadata": {}
        },
        {
          "output_type": "display_data",
          "data": {
            "text/plain": [
              "      id            participantId       contentId             biased    \n",
              " Length:25          Length:25          Length:25          Min.   :0.00  \n",
              " Class :character   Class :character   Class :character   1st Qu.:1.00  \n",
              " Mode  :character   Mode  :character   Mode  :character   Median :1.00  \n",
              "                                                          Mean   :0.84  \n",
              "                                                          3rd Qu.:1.00  \n",
              "                                                          Max.   :1.00  \n",
              "    reason            createdAt        \n",
              " Length:25          Min.   :1.678e+09  \n",
              " Class :character   1st Qu.:1.678e+09  \n",
              " Mode  :character   Median :1.678e+09  \n",
              "                    Mean   :1.678e+09  \n",
              "                    3rd Qu.:1.678e+09  \n",
              "                    Max.   :1.679e+09  "
            ]
          },
          "metadata": {}
        }
      ]
    },
    {
      "cell_type": "code",
      "source": [
        "df <- FeedbackWithReasons %>%\n",
        "  merge(Content, by.x = \"contentId\", by.y = \"id\")\n",
        "\n",
        "summary(df)"
      ],
      "metadata": {
        "colab": {
          "base_uri": "https://localhost:8080/",
          "height": 503
        },
        "id": "OKmJmYPWlO8K",
        "outputId": "d0904f6c-568f-430e-a6ed-1b2be9888db7"
      },
      "execution_count": null,
      "outputs": [
        {
          "output_type": "display_data",
          "data": {
            "text/plain": [
              "  contentId              id            participantId         biased.x   \n",
              " Length:25          Length:25          Length:25          Min.   :0.00  \n",
              " Class :character   Class :character   Class :character   1st Qu.:1.00  \n",
              " Mode  :character   Mode  :character   Mode  :character   Median :1.00  \n",
              "                                                          Mean   :0.84  \n",
              "                                                          3rd Qu.:1.00  \n",
              "                                                          Max.   :1.00  \n",
              "    reason            createdAt         indexInArticle  paragraphIndex \n",
              " Length:25          Min.   :1.678e+09   Min.   : 1.00   Min.   : 0.00  \n",
              " Class :character   1st Qu.:1.678e+09   1st Qu.: 4.00   1st Qu.: 2.00  \n",
              " Mode  :character   Median :1.678e+09   Median : 6.00   Median : 3.00  \n",
              "                    Mean   :1.678e+09   Mean   : 8.88   Mean   : 4.76  \n",
              "                    3rd Qu.:1.678e+09   3rd Qu.:10.00   3rd Qu.: 5.00  \n",
              "                    Max.   :1.679e+09   Max.   :31.00   Max.   :17.00  \n",
              "   htmlType            biased.y   groundTruthBiased     text          \n",
              " Length:25          Min.   :0.0   Min.   :0         Length:25         \n",
              " Class :character   1st Qu.:0.0   1st Qu.:0         Class :character  \n",
              " Mode  :character   Median :0.0   Median :0         Mode  :character  \n",
              "                    Mean   :0.2   Mean   :0                           \n",
              "                    3rd Qu.:0.0   3rd Qu.:0                           \n",
              "                    Max.   :1.0   Max.   :0                           \n",
              "  articleId        \n",
              " Length:25         \n",
              " Class :character  \n",
              " Mode  :character  \n",
              "                   \n",
              "                   \n",
              "                   "
            ]
          },
          "metadata": {}
        }
      ]
    },
    {
      "cell_type": "markdown",
      "source": [
        "## Create & export result dataset"
      ],
      "metadata": {
        "id": "6V9fpCL2TFB7"
      }
    },
    {
      "cell_type": "code",
      "source": [
        "ResultDatasetForTraining <- ResultDataset %>% select(contentId, majorityVote, text) %>% filter(majorityVote != -1) %>% rename(\n",
        "  id = contentId,\n",
        "  label = majorityVote,\n",
        "  text = text\n",
        ")\n",
        "\n",
        "head(ResultDatasetForTraining)"
      ],
      "metadata": {
        "id": "P0j4RlILoQDn",
        "colab": {
          "base_uri": "https://localhost:8080/",
          "height": 390
        },
        "outputId": "e6503329-8805-4209-c428-af5b3a4d9db1"
      },
      "execution_count": null,
      "outputs": [
        {
          "output_type": "display_data",
          "data": {
            "text/html": [
              "<table class=\"dataframe\">\n",
              "<caption>A data.frame: 6 × 3</caption>\n",
              "<thead>\n",
              "\t<tr><th></th><th scope=col>id</th><th scope=col>label</th><th scope=col>text</th></tr>\n",
              "\t<tr><th></th><th scope=col>&lt;chr&gt;</th><th scope=col>&lt;dbl&gt;</th><th scope=col>&lt;chr&gt;</th></tr>\n",
              "</thead>\n",
              "<tbody>\n",
              "\t<tr><th scope=row>1</th><td>cdc102f5-88b2-4f1c-ba7d-9970ac9669cd</td><td>0</td><td>\"You think I'm joking,\" he continued. \"                                                                                                                                                        </td></tr>\n",
              "\t<tr><th scope=row>2</th><td>cb534c0b-5bea-4ade-b5da-cd766f6d5ab7</td><td>0</td><td>Speaking about the \"Divine Nine\" — the nine black Greek fraternities and sororities — Biden told the crowd that he is \"not stupid,\" despite being white, because he knows where the \"power is.\"</td></tr>\n",
              "\t<tr><th scope=row>3</th><td>1c03f90d-54c0-4a9b-9309-1818488d294f</td><td>0</td><td>I know where the power is.\"                                                                                                                                                                    </td></tr>\n",
              "\t<tr><th scope=row>4</th><td>be0165c0-fd53-438a-8fda-bb04df7d12e2</td><td>1</td><td>President Joe Biden made a bizarre race-related comment on Monday at a Black History Month event hosted at the White House.                                                                    </td></tr>\n",
              "\t<tr><th scope=row>5</th><td>cd0a2226-c30d-428f-b29d-1e6344b618ac</td><td>0</td><td>\"And, by the way, you know I'm not — I may be a white boy, but I'm not stupid,\" he added, drawing laughter from the crowd. \"                                                                   </td></tr>\n",
              "\t<tr><th scope=row>6</th><td>f9d6c257-4cea-4006-9803-f39412469a3c</td><td>0</td><td>are guaranteed to vote for them.                                                                                                                                                               </td></tr>\n",
              "</tbody>\n",
              "</table>\n"
            ],
            "text/markdown": "\nA data.frame: 6 × 3\n\n| <!--/--> | id &lt;chr&gt; | label &lt;dbl&gt; | text &lt;chr&gt; |\n|---|---|---|---|\n| 1 | cdc102f5-88b2-4f1c-ba7d-9970ac9669cd | 0 | \"You think I'm joking,\" he continued. \"                                                                                                                                                         |\n| 2 | cb534c0b-5bea-4ade-b5da-cd766f6d5ab7 | 0 | Speaking about the \"Divine Nine\" — the nine black Greek fraternities and sororities — Biden told the crowd that he is \"not stupid,\" despite being white, because he knows where the \"power is.\" |\n| 3 | 1c03f90d-54c0-4a9b-9309-1818488d294f | 0 | I know where the power is.\"                                                                                                                                                                     |\n| 4 | be0165c0-fd53-438a-8fda-bb04df7d12e2 | 1 | President Joe Biden made a bizarre race-related comment on Monday at a Black History Month event hosted at the White House.                                                                     |\n| 5 | cd0a2226-c30d-428f-b29d-1e6344b618ac | 0 | \"And, by the way, you know I'm not — I may be a white boy, but I'm not stupid,\" he added, drawing laughter from the crowd. \"                                                                    |\n| 6 | f9d6c257-4cea-4006-9803-f39412469a3c | 0 | are guaranteed to vote for them.                                                                                                                                                                |\n\n",
            "text/latex": "A data.frame: 6 × 3\n\\begin{tabular}{r|lll}\n  & id & label & text\\\\\n  & <chr> & <dbl> & <chr>\\\\\n\\hline\n\t1 & cdc102f5-88b2-4f1c-ba7d-9970ac9669cd & 0 & \"You think I'm joking,\" he continued. \"                                                                                                                                                        \\\\\n\t2 & cb534c0b-5bea-4ade-b5da-cd766f6d5ab7 & 0 & Speaking about the \"Divine Nine\" — the nine black Greek fraternities and sororities — Biden told the crowd that he is \"not stupid,\" despite being white, because he knows where the \"power is.\"\\\\\n\t3 & 1c03f90d-54c0-4a9b-9309-1818488d294f & 0 & I know where the power is.\"                                                                                                                                                                    \\\\\n\t4 & be0165c0-fd53-438a-8fda-bb04df7d12e2 & 1 & President Joe Biden made a bizarre race-related comment on Monday at a Black History Month event hosted at the White House.                                                                    \\\\\n\t5 & cd0a2226-c30d-428f-b29d-1e6344b618ac & 0 & \"And, by the way, you know I'm not — I may be a white boy, but I'm not stupid,\" he added, drawing laughter from the crowd. \"                                                                   \\\\\n\t6 & f9d6c257-4cea-4006-9803-f39412469a3c & 0 & are guaranteed to vote for them.                                                                                                                                                               \\\\\n\\end{tabular}\n",
            "text/plain": [
              "  id                                   label\n",
              "1 cdc102f5-88b2-4f1c-ba7d-9970ac9669cd 0    \n",
              "2 cb534c0b-5bea-4ade-b5da-cd766f6d5ab7 0    \n",
              "3 1c03f90d-54c0-4a9b-9309-1818488d294f 0    \n",
              "4 be0165c0-fd53-438a-8fda-bb04df7d12e2 1    \n",
              "5 cd0a2226-c30d-428f-b29d-1e6344b618ac 0    \n",
              "6 f9d6c257-4cea-4006-9803-f39412469a3c 0    \n",
              "  text                                                                                                                                                                                           \n",
              "1 \"You think I'm joking,\" he continued. \"                                                                                                                                                        \n",
              "2 Speaking about the \"Divine Nine\" — the nine black Greek fraternities and sororities — Biden told the crowd that he is \"not stupid,\" despite being white, because he knows where the \"power is.\"\n",
              "3 I know where the power is.\"                                                                                                                                                                    \n",
              "4 President Joe Biden made a bizarre race-related comment on Monday at a Black History Month event hosted at the White House.                                                                    \n",
              "5 \"And, by the way, you know I'm not — I may be a white boy, but I'm not stupid,\" he added, drawing laughter from the crowd. \"                                                                   \n",
              "6 are guaranteed to vote for them.                                                                                                                                                               "
            ]
          },
          "metadata": {}
        }
      ]
    },
    {
      "cell_type": "code",
      "source": [
        "# Export to CSV\n",
        "write.csv(ResultDatasetForTraining, \"new-dataset.csv\", row.names=FALSE)"
      ],
      "metadata": {
        "id": "eFaVX3_wpMgx"
      },
      "execution_count": null,
      "outputs": []
    }
  ]
}